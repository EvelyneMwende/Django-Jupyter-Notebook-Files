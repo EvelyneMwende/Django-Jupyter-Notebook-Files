{
 "cells": [
  {
   "cell_type": "code",
   "execution_count": 2,
   "metadata": {},
   "outputs": [
    {
     "data": {
      "text/plain": [
       "False"
      ]
     },
     "execution_count": 2,
     "metadata": {},
     "output_type": "execute_result"
    }
   ],
   "source": [
    "#########################\n",
    "#### CONTROL FLOW #######\n",
    "#########################\n",
    "\n",
    "# In this lecture we will cover Control Flow in Python, basically how to dictate\n",
    "# our code behaves in whatever manner we want. Let's start with basic comparison\n",
    "# Operators:\n",
    "\n",
    "###########################\n",
    "## COMPARISON OPERATORS ###\n",
    "###########################\n",
    "\n",
    "# Greater than\n",
    "1 > 2"
   ]
  },
  {
   "cell_type": "code",
   "execution_count": 3,
   "metadata": {},
   "outputs": [
    {
     "data": {
      "text/plain": [
       "True"
      ]
     },
     "execution_count": 3,
     "metadata": {},
     "output_type": "execute_result"
    }
   ],
   "source": [
    "# Less than\n",
    "1 < 2"
   ]
  },
  {
   "cell_type": "code",
   "execution_count": 4,
   "metadata": {},
   "outputs": [
    {
     "data": {
      "text/plain": [
       "True"
      ]
     },
     "execution_count": 4,
     "metadata": {},
     "output_type": "execute_result"
    }
   ],
   "source": [
    "# Greater than or Equal to\n",
    "1 >= 1"
   ]
  },
  {
   "cell_type": "code",
   "execution_count": 5,
   "metadata": {},
   "outputs": [
    {
     "data": {
      "text/plain": [
       "True"
      ]
     },
     "execution_count": 5,
     "metadata": {},
     "output_type": "execute_result"
    }
   ],
   "source": [
    "# Less than or Equal to\n",
    "1 <= 4"
   ]
  },
  {
   "cell_type": "code",
   "execution_count": 6,
   "metadata": {},
   "outputs": [
    {
     "name": "stdout",
     "output_type": "stream",
     "text": [
      "True\n",
      "False\n",
      "False\n"
     ]
    }
   ],
   "source": [
    "# Equality\n",
    "print(1 == 1)\n",
    "print(1 == \"1\")\n",
    "print('hi' == 'bye')"
   ]
  },
  {
   "cell_type": "code",
   "execution_count": 7,
   "metadata": {},
   "outputs": [
    {
     "data": {
      "text/plain": [
       "True"
      ]
     },
     "execution_count": 7,
     "metadata": {},
     "output_type": "execute_result"
    }
   ],
   "source": [
    "# Inequality\n",
    "1 != 2"
   ]
  },
  {
   "cell_type": "code",
   "execution_count": 8,
   "metadata": {},
   "outputs": [
    {
     "data": {
      "text/plain": [
       "False"
      ]
     },
     "execution_count": 8,
     "metadata": {},
     "output_type": "execute_result"
    }
   ],
   "source": [
    "##########################\n",
    "### LOGICAL OPERATORS #####\n",
    "###########################\n",
    "\n",
    "# AND -both conditions must be true for it to be true\n",
    "(1 > 2) and (2 < 3)\n"
   ]
  },
  {
   "cell_type": "code",
   "execution_count": 9,
   "metadata": {},
   "outputs": [
    {
     "data": {
      "text/plain": [
       "True"
      ]
     },
     "execution_count": 9,
     "metadata": {},
     "output_type": "execute_result"
    }
   ],
   "source": [
    "# OR - only one of the conditions needs to b e true for it to return true\n",
    "(1 > 2) or (2 < 3)"
   ]
  },
  {
   "cell_type": "code",
   "execution_count": 10,
   "metadata": {},
   "outputs": [
    {
     "data": {
      "text/plain": [
       "True"
      ]
     },
     "execution_count": 10,
     "metadata": {},
     "output_type": "execute_result"
    }
   ],
   "source": [
    "# Multiple logical operators\n",
    "(1 == 2) or (2 == 3) or (4 == 4)"
   ]
  },
  {
   "cell_type": "code",
   "execution_count": 11,
   "metadata": {},
   "outputs": [
    {
     "name": "stdout",
     "output_type": "stream",
     "text": [
      "Yep!\n",
      "yep!\n"
     ]
    }
   ],
   "source": [
    "\n",
    "##################################\n",
    "### if,elif, else Statements #####\n",
    "##################################\n",
    "\n",
    "# Indentation is extremely important in Python and is basically Python's way of\n",
    "# getting rid of enclosing brackets like {} we've seen in the past and are common\n",
    "# with other languages. This adds to Python's readability and is huge part of the\n",
    "# \"Zen of Python\". It is also a big reason why its so popular for beginners. Any\n",
    "# text editor or IDE should be able to auto-indent for you, but always double check\n",
    "# this if you ever get errors in your code! Code blocks are then noted by a colon (:).\n",
    "\n",
    "# Now let's show some examples of if, elif, and else statements:\n",
    "\n",
    "if 1 < 2:\n",
    "    print('Yep!')\n",
    "\n",
    "if 1 < 2:\n",
    "    print('yep!')\n"
   ]
  },
  {
   "cell_type": "code",
   "execution_count": 12,
   "metadata": {},
   "outputs": [
    {
     "name": "stdout",
     "output_type": "stream",
     "text": [
      "first\n"
     ]
    }
   ],
   "source": [
    "# If Else - Make sure to line up the else with the if statement to \"connect\" them\n",
    "\n",
    "if 1 < 2:\n",
    "    print('first')\n",
    "else:\n",
    "    print('last')\n"
   ]
  },
  {
   "cell_type": "code",
   "execution_count": 13,
   "metadata": {},
   "outputs": [
    {
     "name": "stdout",
     "output_type": "stream",
     "text": [
      "last\n"
     ]
    }
   ],
   "source": [
    "if 1 > 2:\n",
    "    print('first')\n",
    "else:\n",
    "    print('last')"
   ]
  },
  {
   "cell_type": "code",
   "execution_count": 14,
   "metadata": {},
   "outputs": [
    {
     "name": "stdout",
     "output_type": "stream",
     "text": [
      "middle\n"
     ]
    }
   ],
   "source": [
    "# To add more conditions (like else if) you just use a single phrase \"elif\"\n",
    "\n",
    "if 1 == 2:\n",
    "    print('first')\n",
    "elif 3 == 3:\n",
    "    print('middle')\n",
    "else:\n",
    "    print('Last')"
   ]
  },
  {
   "cell_type": "code",
   "execution_count": 15,
   "metadata": {},
   "outputs": [
    {
     "name": "stdout",
     "output_type": "stream",
     "text": [
      "1\n",
      "2\n",
      "3\n",
      "4\n",
      "5\n"
     ]
    }
   ],
   "source": [
    "################################################################################\n",
    "####################-----------------------------###############################\n",
    "####################-----------LOOPS-------------###############################\n",
    "####################-----------------------------###############################\n",
    "################################################################################\n",
    "\n",
    "# Time to review loops with Python, such as For Loops and While loops\n",
    "# Python is unique in that is discards parenthesis and brackets in favor of a\n",
    "# whitespace system that defines blocks of code through indentation, this forces\n",
    "# the user to write readable code, which is great for future you looking back at\n",
    "# your older code later on!\n",
    "\n",
    "#####################\n",
    "### FOR LOOPS #######\n",
    "#####################\n",
    "\n",
    "# Use For Loops for any sequence of elements. If you try to use a for loop with\n",
    "# a mapping like a dictionary, it will still work, but it won't loop with any\n",
    "# order. Let's walk through some examples of how a for loop behaves with the\n",
    "# various data structures we've learned about!\n",
    "\n",
    "## For Loop with a list\n",
    "\n",
    "# Perform an action with each element\n",
    "seq = [1,2,3,4,5]\n",
    "\n",
    "for item in seq:\n",
    "    print(item)\n"
   ]
  },
  {
   "cell_type": "code",
   "execution_count": 19,
   "metadata": {},
   "outputs": [
    {
     "name": "stdout",
     "output_type": "stream",
     "text": [
      "Yep 1\n",
      "Yep 2\n",
      "Yep 3\n",
      "Yep 4\n",
      "Yep 5\n"
     ]
    }
   ],
   "source": [
    "# Perform an action for every element but doesn't actually involve the elements\n",
    "for item in seq:\n",
    "    print('Yep ' + str(item))"
   ]
  },
  {
   "cell_type": "code",
   "execution_count": 20,
   "metadata": {},
   "outputs": [
    {
     "name": "stdout",
     "output_type": "stream",
     "text": [
      "2\n",
      "4\n",
      "6\n",
      "8\n",
      "10\n"
     ]
    }
   ],
   "source": [
    "# You can call the loop variable whatever you want:\n",
    "for jelly in seq:\n",
    "    print(jelly+jelly)\n"
   ]
  },
  {
   "cell_type": "code",
   "execution_count": 21,
   "metadata": {},
   "outputs": [
    {
     "name": "stdout",
     "output_type": "stream",
     "text": [
      "This is the key\n",
      "Sam\n",
      "This is the value\n",
      "3\n",
      "\n",
      "\n",
      "This is the key\n",
      "Frank\n",
      "This is the value\n",
      "4\n",
      "\n",
      "\n",
      "This is the key\n",
      "Dan\n",
      "This is the value\n",
      "29\n",
      "\n",
      "\n"
     ]
    }
   ],
   "source": [
    "## For Loop with a Dictionary\n",
    "ages = {\"Sam\":3,\"Frank\":4,\"Dan\":29}\n",
    "\n",
    "#key can be any other name\n",
    "\n",
    "for key in ages:\n",
    "    print(\"This is the key\")\n",
    "    print(key)\n",
    "    print(\"This is the value\")\n",
    "    print(ages[key])\n",
    "    print(\"\\n\")"
   ]
  },
  {
   "cell_type": "code",
   "execution_count": 22,
   "metadata": {},
   "outputs": [
    {
     "name": "stdout",
     "output_type": "stream",
     "text": [
      "(1, 10)\n",
      "(3, 30)\n",
      "(5, 50)\n"
     ]
    }
   ],
   "source": [
    "# A list of tuple pairs is a very common format for functions to return data in\n",
    "# Because it is so common we can use tuple un-packing to deal with this, example:\n",
    "\n",
    "mypairs = [(1,10),(3,30),(5,50)]\n",
    "\n",
    "# Normal\n",
    "for tup in mypairs:\n",
    "    print(tup)\n"
   ]
  },
  {
   "cell_type": "code",
   "execution_count": 23,
   "metadata": {},
   "outputs": [
    {
     "name": "stdout",
     "output_type": "stream",
     "text": [
      "1\n",
      "10\n",
      "3\n",
      "30\n",
      "5\n",
      "50\n"
     ]
    }
   ],
   "source": [
    "# Tuple un-packing\n",
    "for item1,item2 in mypairs:\n",
    "    print(item1)\n",
    "    print(item2)"
   ]
  },
  {
   "cell_type": "code",
   "execution_count": 24,
   "metadata": {},
   "outputs": [
    {
     "name": "stdout",
     "output_type": "stream",
     "text": [
      "1\n",
      "10\n",
      "3\n",
      "30\n",
      "5\n",
      "50\n"
     ]
    }
   ],
   "source": [
    "#Another syntax\n",
    "# Tuple un-packing\n",
    "for (item1,item2) in mypairs:\n",
    "    print(item1)\n",
    "    print(item2)"
   ]
  },
  {
   "cell_type": "code",
   "execution_count": 25,
   "metadata": {},
   "outputs": [
    {
     "name": "stdout",
     "output_type": "stream",
     "text": [
      "i is: 1\n",
      "i is: 2\n",
      "i is: 3\n",
      "i is: 4\n"
     ]
    }
   ],
   "source": [
    "# While loops allow us to continually perform and action until a condition\n",
    "# becomes true. For example:\n",
    "\n",
    "i = 1\n",
    "while i < 5:\n",
    "    print('i is: {}'.format(i))\n",
    "    i = i+1\n"
   ]
  },
  {
   "cell_type": "code",
   "execution_count": 26,
   "metadata": {},
   "outputs": [
    {
     "data": {
      "text/plain": [
       "range(0, 5)"
      ]
     },
     "execution_count": 26,
     "metadata": {},
     "output_type": "execute_result"
    }
   ],
   "source": [
    "#####################\n",
    "### OTHER TOPICS ####\n",
    "#####################\n",
    "\n",
    "# RANGE FUNCTION\n",
    "# range() can quickly generate integers for you, based on a starting and ending point\n",
    "\n",
    "# Note that its a generator:\n",
    "range(5)"
   ]
  },
  {
   "cell_type": "code",
   "execution_count": 27,
   "metadata": {},
   "outputs": [
    {
     "data": {
      "text/plain": [
       "[0, 1, 2, 3, 4]"
      ]
     },
     "execution_count": 27,
     "metadata": {},
     "output_type": "execute_result"
    }
   ],
   "source": [
    "list(range(5))"
   ]
  },
  {
   "cell_type": "code",
   "execution_count": 30,
   "metadata": {},
   "outputs": [
    {
     "data": {
      "text/plain": [
       "[1, 2, 3, 4, 5, 6, 7, 8, 9]"
      ]
     },
     "execution_count": 30,
     "metadata": {},
     "output_type": "execute_result"
    }
   ],
   "source": [
    "# Start and ending\n",
    "list(range(1,10))\n"
   ]
  },
  {
   "cell_type": "code",
   "execution_count": 31,
   "metadata": {},
   "outputs": [
    {
     "data": {
      "text/plain": [
       "[0, 2, 4, 6, 8, 10, 12, 14, 16, 18]"
      ]
     },
     "execution_count": 31,
     "metadata": {},
     "output_type": "execute_result"
    }
   ],
   "source": [
    "# Third argument for step-size\n",
    "list(range(0,20,2))"
   ]
  },
  {
   "cell_type": "code",
   "execution_count": 32,
   "metadata": {},
   "outputs": [
    {
     "name": "stdout",
     "output_type": "stream",
     "text": [
      "[1, 2, 3, 4]\n"
     ]
    }
   ],
   "source": [
    "# List Comprehension\n",
    "# This technique allows you to quickly create lists with a single line of code.\n",
    "# You can think of this as deconstructing a for loop with an append(). For Example:\n",
    "\n",
    "# Starting with:\n",
    "x = [1,2,3,4]\n",
    "print(x)"
   ]
  },
  {
   "cell_type": "code",
   "execution_count": 33,
   "metadata": {},
   "outputs": [
    {
     "name": "stdout",
     "output_type": "stream",
     "text": [
      "[1, 4, 9, 16]\n"
     ]
    }
   ],
   "source": [
    "# We could do this:\n",
    "out = []\n",
    "for item in x:\n",
    "    out.append(item**2)\n",
    "print(out)"
   ]
  },
  {
   "cell_type": "code",
   "execution_count": 34,
   "metadata": {},
   "outputs": [
    {
     "data": {
      "text/plain": [
       "[1, 4, 9, 16]"
      ]
     },
     "execution_count": 34,
     "metadata": {},
     "output_type": "execute_result"
    }
   ],
   "source": [
    "# Written in List Comprehension Form\n",
    "[item**2 for item in x]\n",
    "\n",
    "# List Comprehension is a great tool, but remember its not always approriate for\n",
    "# every situation, don't sacrafice readability for a list Comprehension. It's\n",
    "# speed is very comparable to the for loop."
   ]
  },
  {
   "cell_type": "code",
   "execution_count": 35,
   "metadata": {},
   "outputs": [
    {
     "name": "stdout",
     "output_type": "stream",
     "text": [
      "[1, 4, 9, 16]\n"
     ]
    }
   ],
   "source": [
    "out = [item**2 for item in x]\n",
    "print(out)"
   ]
  },
  {
   "cell_type": "code",
   "execution_count": null,
   "metadata": {},
   "outputs": [],
   "source": []
  }
 ],
 "metadata": {
  "kernelspec": {
   "display_name": "Python 3",
   "language": "python",
   "name": "python3"
  },
  "language_info": {
   "codemirror_mode": {
    "name": "ipython",
    "version": 3
   },
   "file_extension": ".py",
   "mimetype": "text/x-python",
   "name": "python",
   "nbconvert_exporter": "python",
   "pygments_lexer": "ipython3",
   "version": "3.7.3"
  }
 },
 "nbformat": 4,
 "nbformat_minor": 2
}
