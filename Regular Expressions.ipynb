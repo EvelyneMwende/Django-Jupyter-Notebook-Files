{
 "cells": [
  {
   "cell_type": "code",
   "execution_count": 2,
   "id": "d2b6e645",
   "metadata": {},
   "outputs": [
    {
     "name": "stdout",
     "output_type": "stream",
     "text": [
      "Searching for \"term1\" in: \n",
      "\"This is a string with term1, but it does not have the other term.\"\n",
      "\n",
      "\n",
      "Match was found. \n",
      "\n",
      "Searching for \"term2\" in: \n",
      "\"This is a string with term1, but it does not have the other term.\"\n",
      "\n",
      "\n",
      "No Match was found.\n",
      "\n"
     ]
    }
   ],
   "source": [
    "import re\n",
    "\n",
    "# List of patterns to search for\n",
    "patterns = [ 'term1', 'term2' ]\n",
    "\n",
    "# Text to parse\n",
    "text = 'This is a string with term1, but it does not have the other term.'\n",
    "\n",
    "for pattern in patterns:\n",
    "    print ('Searching for \"%s\" in: \\n\"%s\"' % (pattern, text),)\n",
    "\n",
    "    #Check for match\n",
    "    if re.search(pattern,  text):\n",
    "        print ('\\n')\n",
    "        print ('Match was found. \\n')\n",
    "    else:\n",
    "        print ('\\n')\n",
    "        print ('No Match was found.\\n')"
   ]
  },
  {
   "cell_type": "code",
   "execution_count": 3,
   "id": "cfe16180",
   "metadata": {},
   "outputs": [
    {
     "data": {
      "text/plain": [
       "re.Match"
      ]
     },
     "execution_count": 3,
     "metadata": {},
     "output_type": "execute_result"
    }
   ],
   "source": [
    "# Now we've seen that re.search() will take the pattern, scan the text, and then\n",
    "# returns a Match object. If no pattern is found, a None is returned.\n",
    "# To give a clearer picture of this match object, check out the code below:\n",
    "\n",
    "\n",
    "# List of patterns to search for\n",
    "pattern = 'term1'\n",
    "\n",
    "# Text to parse\n",
    "text = 'This is a string with term1, but it does not have the other term.'\n",
    "\n",
    "match = re.search(pattern,  text)\n",
    "\n",
    "type(match)"
   ]
  },
  {
   "cell_type": "code",
   "execution_count": 4,
   "id": "b072b794",
   "metadata": {},
   "outputs": [
    {
     "data": {
      "text/plain": [
       "['What is the domain name of someone with the email: hello', 'gmail.com']"
      ]
     },
     "execution_count": 4,
     "metadata": {},
     "output_type": "execute_result"
    }
   ],
   "source": [
    "#######################################\n",
    "#### Split with regular expressions ###\n",
    "#######################################\n",
    "\n",
    "# Let's see how we can split with the re syntax. This should look similar to how\n",
    "# you used the split() method with strings.\n",
    "\n",
    "# Term to split on\n",
    "split_term = '@'\n",
    "\n",
    "phrase = 'What is the domain name of someone with the email: hello@gmail.com'\n",
    "\n",
    "# Split the phrase\n",
    "re.split(split_term,phrase)\n",
    "\n",
    "# Note how re.split() returns a list with the term to spit on removed and the\n",
    "# terms in the list are a split up version of the string. Create a couple of\n",
    "# more examples for yourself to make sure you understand!\n",
    "#\n"
   ]
  },
  {
   "cell_type": "code",
   "execution_count": 5,
   "id": "915b19c1",
   "metadata": {},
   "outputs": [
    {
     "data": {
      "text/plain": [
       "['match']"
      ]
     },
     "execution_count": 5,
     "metadata": {},
     "output_type": "execute_result"
    }
   ],
   "source": [
    "############################################\n",
    "### Finding all instances of a pattern #####\n",
    "############################################\n",
    "\n",
    "# You can use re.findall() to find all the instances of a pattern in a string.\n",
    "# For example:\n",
    "\n",
    "# Returns a list of all matches\n",
    "re.findall('match','test phrase match is in middle')"
   ]
  },
  {
   "cell_type": "code",
   "execution_count": 11,
   "id": "8982a4d2",
   "metadata": {},
   "outputs": [
    {
     "name": "stdout",
     "output_type": "stream",
     "text": [
      "Searching the phrase using the re check: 'hello'\n",
      "[]\n",
      "\n",
      "\n",
      "Searching the phrase using the re check: 'test'\n",
      "['test']\n",
      "\n",
      "\n"
     ]
    }
   ],
   "source": [
    "############################\n",
    "### Pattern re Syntax ######\n",
    "############################\n",
    "\n",
    "# This will be the bulk of this lecture on using re with Python. Regular\n",
    "# expressions supports a huge variety of patterns the just simply finding\n",
    "# where a single string occurred.\n",
    "#\n",
    "# We can use *metacharacters* along with re to find specific types of patterns.\n",
    "#\n",
    "# Since we will be testing multiple re syntax forms, let's create a function\n",
    "# that will print out results given a list of various regular expressions and\n",
    "# a phrase to parse:\n",
    "\n",
    "\n",
    "def multi_re_find(patterns,phrase):\n",
    "    '''\n",
    "    Takes in a list of regex patterns\n",
    "    Prints a list of all matches\n",
    "    '''\n",
    "    for pattern in patterns:\n",
    "        print ('Searching the phrase using the re check: %r' %pattern)\n",
    "        print (re.findall(pattern,phrase))\n",
    "        print ('\\n')\n",
    "        \n",
    "\n",
    "multi_re_find(['hello', 'test'], 'test phrase match is in middle')"
   ]
  },
  {
   "cell_type": "code",
   "execution_count": 12,
   "id": "dff426b4",
   "metadata": {},
   "outputs": [
    {
     "name": "stdout",
     "output_type": "stream",
     "text": [
      "Searching the phrase using the re check: 'sd*'\n",
      "['sd', 'sd', 's', 's', 'sddd', 'sddd', 'sddd', 'sd', 's', 's', 's', 's', 's', 's', 'sdddd']\n",
      "\n",
      "\n",
      "Searching the phrase using the re check: 'sd+'\n",
      "['sd', 'sd', 'sddd', 'sddd', 'sddd', 'sd', 'sdddd']\n",
      "\n",
      "\n",
      "Searching the phrase using the re check: 'sd?'\n",
      "['sd', 'sd', 's', 's', 'sd', 'sd', 'sd', 'sd', 's', 's', 's', 's', 's', 's', 'sd']\n",
      "\n",
      "\n",
      "Searching the phrase using the re check: 'sd{3}'\n",
      "['sddd', 'sddd', 'sddd', 'sddd']\n",
      "\n",
      "\n",
      "Searching the phrase using the re check: 'sd{2,3}'\n",
      "['sddd', 'sddd', 'sddd', 'sddd']\n",
      "\n",
      "\n",
      "Searching the phrase using the re check: 's[sd]+'\n",
      "['sdsd', 'sssddd', 'sdddsddd', 'sds', 'sssss', 'sdddd']\n",
      "\n",
      "\n",
      "Searching the phrase using the re check: 's[sd]*'\n",
      "['sdsd', 'sssddd', 'sdddsddd', 'sds', 'sssss', 'sdddd']\n",
      "\n",
      "\n",
      "Searching the phrase using the re check: 's[sd]{3}'\n",
      "['sdsd', 'sssd', 'sddd', 'sddd', 'ssss', 'sddd']\n",
      "\n",
      "\n",
      "Searching the phrase using the re check: 's[sd]{2,3}'\n",
      "['sdsd', 'sssd', 'sddd', 'sddd', 'sds', 'ssss', 'sddd']\n",
      "\n",
      "\n",
      "Searching the phrase using the re check: 's[sd]{2,}'\n",
      "['sdsd', 'sssddd', 'sdddsddd', 'sds', 'sssss', 'sdddd']\n",
      "\n",
      "\n"
     ]
    }
   ],
   "source": [
    "##########################\n",
    "### Repetition Syntax ####\n",
    "##########################\n",
    "\n",
    "# There are five ways to express repetition in a pattern:\n",
    "#\n",
    "#     1.) A pattern followed by the meta-character * is repeated zero or more times.\n",
    "#     2.) Replace the * with + and the pattern must appear at least once.\n",
    "#     3.) Using ? means the pattern appears zero or one time.\n",
    "#     4.) For a specific number of occurrences, use {m} after the pattern, where\n",
    "#         m is replaced with the number of times the pattern should repeat.\n",
    "#     5.) Use {m,n} where m is the minimum number of repetitions and n is the\n",
    "#         maximum. Leaving out n ({m,}) means the value appears at least m times,\n",
    "#         with no maximum.\n",
    "#\n",
    "# Now we will see an example of each of these using our multi_re_find function:\n",
    "\n",
    "\n",
    "test_phrase = 'sdsd..sssddd...sdddsddd...dsds...dsssss...sdddd'\n",
    "\n",
    "test_patterns = [ 'sd*',        # find s followed by zero or more d's\n",
    "                'sd+',          #find s followed by one or more d's\n",
    "                'sd?',          #find s followed by zero or one d's\n",
    "                'sd{3}',        #find s followed by three d's\n",
    "                'sd{2,3}',      #find s followed by two to three d's\n",
    "                's[sd]+',       #find s followed by one or more s or d\n",
    "                's[sd]*',       #find s followed by zero or more s or d\n",
    "                's[sd]{3}',     #find s followed by three s or d\n",
    "                's[sd]{2,3}',   #find s followed by two to three s or d\n",
    "                's[sd]{2,}',    #find s followed by two or more s or d\n",
    "                ]\n",
    "\n",
    "multi_re_find(test_patterns,test_phrase)"
   ]
  },
  {
   "cell_type": "code",
   "execution_count": 13,
   "id": "25f3129b",
   "metadata": {},
   "outputs": [
    {
     "name": "stdout",
     "output_type": "stream",
     "text": [
      "Searching the phrase using the re check: '[sd]'\n",
      "['s', 'd', 's', 'd', 's', 's', 's', 'd', 'd', 'd', 's', 'd', 'd', 'd', 's', 'd', 'd', 'd', 'd', 's', 'd', 's', 'd', 's', 's', 's', 's', 's', 's', 'd', 'd', 'd', 'd']\n",
      "\n",
      "\n",
      "Searching the phrase using the re check: 's[sd]+'\n",
      "['sdsd', 'sssddd', 'sdddsddd', 'sds', 'sssss', 'sdddd']\n",
      "\n",
      "\n"
     ]
    }
   ],
   "source": [
    "#############################\n",
    "### Character Sets ##########\n",
    "#############################\n",
    "\n",
    "# Character sets are used when you wish to match any one of a group of\n",
    "# characters at a point in the input. Brackets are used to construct character\n",
    "# set inputs. For example: the input [ab] searches for occurrences of either a or b.\n",
    "\n",
    "# Let's see some examples:\n",
    "test_phrase = 'sdsd..sssddd...sdddsddd...dsds...dsssss...sdddd'\n",
    "\n",
    "test_patterns = [ '[sd]',    # either s or d\n",
    "            's[sd]+']   # s followed by one or more s or d\n",
    "\n",
    "\n",
    "multi_re_find(test_patterns,test_phrase)\n",
    "\n",
    "# It makes sense that the first [sd] returns every instance. Also the second\n",
    "# input will just return any thing starting with an s in this particular case\n",
    "# of the test phrase input."
   ]
  },
  {
   "cell_type": "code",
   "execution_count": 14,
   "id": "8fe47508",
   "metadata": {},
   "outputs": [
    {
     "data": {
      "text/plain": [
       "['This',\n",
       " 'is',\n",
       " 'a',\n",
       " 'string',\n",
       " 'But',\n",
       " 'it',\n",
       " 'has',\n",
       " 'punctuation',\n",
       " 'How',\n",
       " 'can',\n",
       " 'we',\n",
       " 'remove',\n",
       " 'it']"
      ]
     },
     "execution_count": 14,
     "metadata": {},
     "output_type": "execute_result"
    }
   ],
   "source": [
    "#############################\n",
    "### Exclusion ###############\n",
    "#############################\n",
    "\n",
    "# We can use ^ to exclude terms by incorporating it into the bracket syntax\n",
    "# notation. For example: [^...] will match any single character not in the\n",
    "# brackets.\n",
    "\n",
    "# Let's see some examples:\n",
    "\n",
    "test_phrase = 'This is a string! But it has punctuation. How can we remove it?'\n",
    "\n",
    "\n",
    "# Use [^!.? ] to check for matches that are not a !,.,?, or space. Add the +\n",
    "# to check that the match appears at least once, this basically translate into\n",
    "# finding the words.\n",
    "\n",
    "re.findall('[^!.? ]+',test_phrase)"
   ]
  },
  {
   "cell_type": "code",
   "execution_count": 15,
   "id": "b1eebf24",
   "metadata": {},
   "outputs": [
    {
     "name": "stdout",
     "output_type": "stream",
     "text": [
      "Searching the phrase using the re check: '[a-z]+'\n",
      "['his', 'is', 'an', 'example', 'sentence', 'ets', 'see', 'if', 'we', 'can', 'find', 'some', 'letters']\n",
      "\n",
      "\n",
      "Searching the phrase using the re check: '[A-Z]+'\n",
      "['T', 'L']\n",
      "\n",
      "\n",
      "Searching the phrase using the re check: '[a-zA-Z]+'\n",
      "['This', 'is', 'an', 'example', 'sentence', 'Lets', 'see', 'if', 'we', 'can', 'find', 'some', 'letters']\n",
      "\n",
      "\n",
      "Searching the phrase using the re check: '[A-Z][a-z]+'\n",
      "['This', 'Lets']\n",
      "\n",
      "\n"
     ]
    }
   ],
   "source": [
    "#############################\n",
    "## Character Ranges #########\n",
    "#############################\n",
    "\n",
    "# As character sets grow larger, typing every character that should (or should\n",
    "# not) match could become very tedious. A more compact format using character\n",
    "# ranges lets you define a character set to include all of the contiguous\n",
    "# characters between a start and stop point. The format used is [start-end].\n",
    "#\n",
    "# Common use cases are to search for a specific range of letters in the alphabet,\n",
    "#  such [a-f] would return matches with any instance of letters between a and f.\n",
    "#\n",
    "# Let's walk through some examples:\n",
    "\n",
    "test_phrase = 'This is an example sentence. Lets see if we can find some letters.'\n",
    "\n",
    "test_patterns=[ '[a-z]+',      # find all sequences of lower case letters\n",
    "                '[A-Z]+',      # find all sequences of upper case letters\n",
    "                '[a-zA-Z]+',   # find allsequences of lower or upper case letters\n",
    "                '[A-Z][a-z]+'] # find all one upper case letter followed by lower case letters\n",
    "\n",
    "multi_re_find(test_patterns,test_phrase)"
   ]
  },
  {
   "cell_type": "code",
   "execution_count": 16,
   "id": "8e96a35a",
   "metadata": {},
   "outputs": [
    {
     "name": "stdout",
     "output_type": "stream",
     "text": [
      "Searching the phrase using the re check: '\\\\d+'\n",
      "['1233']\n",
      "\n",
      "\n",
      "Searching the phrase using the re check: '\\\\D+'\n",
      "['This is a string with some numbers ', ' and a symbol #hashtag']\n",
      "\n",
      "\n",
      "Searching the phrase using the re check: '\\\\s+'\n",
      "[' ', ' ', ' ', ' ', ' ', ' ', ' ', ' ', ' ', ' ', ' ']\n",
      "\n",
      "\n",
      "Searching the phrase using the re check: '\\\\S+'\n",
      "['This', 'is', 'a', 'string', 'with', 'some', 'numbers', '1233', 'and', 'a', 'symbol', '#hashtag']\n",
      "\n",
      "\n",
      "Searching the phrase using the re check: '\\\\w+'\n",
      "['This', 'is', 'a', 'string', 'with', 'some', 'numbers', '1233', 'and', 'a', 'symbol', 'hashtag']\n",
      "\n",
      "\n",
      "Searching the phrase using the re check: '\\\\W+'\n",
      "[' ', ' ', ' ', ' ', ' ', ' ', ' ', ' ', ' ', ' ', ' #']\n",
      "\n",
      "\n"
     ]
    }
   ],
   "source": [
    "#############################\n",
    "### Escape Codes ############\n",
    "#############################\n",
    "\n",
    "# You can use special escape codes to find specific types of patterns in your\n",
    "# data, such as digits, non-digits,whitespace, and more.\n",
    "\n",
    "# For example:\n",
    "\n",
    "#\n",
    "# Escapes are indicated by prefixing the character with a backslash (\\).\n",
    "# Unfortunately, a backslash must itself be escaped in normal Python strings,\n",
    "# and that results in expressions that are difficult to read. Using raw strings,\n",
    "# created by prefixing the literal value with r, for creating regular expressions\n",
    "#  eliminates this problem and maintains readability.\n",
    "#\n",
    "# Personally, I think this use of r to escape a backslash is probably one of the\n",
    "# things that block someone who is not familiar with regex in Python from being\n",
    "# able to read regex code at first. Hopefully after seeing these examples this\n",
    "# syntax will become clear.\n",
    "\n",
    "\n",
    "test_phrase = 'This is a string with some numbers 1233 and a symbol #hashtag'\n",
    "\n",
    "test_patterns=[ r'\\d+', # sequence of digits\n",
    "                r'\\D+', # sequence of non-digits\n",
    "                r'\\s+', # sequence of whitespace\n",
    "                r'\\S+', # sequence of non-whitespace\n",
    "                r'\\w+', # alphanumeric characters\n",
    "                r'\\W+', # non-alphanumeric\n",
    "                ]\n",
    "\n",
    "multi_re_find(test_patterns,test_phrase)"
   ]
  },
  {
   "cell_type": "code",
   "execution_count": null,
   "id": "21e7d296",
   "metadata": {},
   "outputs": [],
   "source": []
  }
 ],
 "metadata": {
  "kernelspec": {
   "display_name": "Python 3 (ipykernel)",
   "language": "python",
   "name": "python3"
  },
  "language_info": {
   "codemirror_mode": {
    "name": "ipython",
    "version": 3
   },
   "file_extension": ".py",
   "mimetype": "text/x-python",
   "name": "python",
   "nbconvert_exporter": "python",
   "pygments_lexer": "ipython3",
   "version": "3.10.6"
  }
 },
 "nbformat": 4,
 "nbformat_minor": 5
}
