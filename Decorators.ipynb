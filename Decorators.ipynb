{
 "cells": [
  {
   "cell_type": "code",
   "execution_count": 2,
   "id": "27326b5b",
   "metadata": {},
   "outputs": [
    {
     "name": "stdout",
     "output_type": "stream",
     "text": [
      "Other code would go here\n",
      "Hi Jose!\n"
     ]
    }
   ],
   "source": [
    "######################################\n",
    "# Functions as Arguments\n",
    "######################################\n",
    "\n",
    "# Now lets see how we can pass functions as arguments into other functions:\n",
    "\n",
    "def hello():\n",
    "    return 'Hi Jose!'\n",
    "\n",
    "def other(func):\n",
    "    print ('Other code would go here')\n",
    "    print (func())\n",
    "\n",
    "other(hello)\n"
   ]
  },
  {
   "cell_type": "code",
   "execution_count": 4,
   "id": "393f6b5d",
   "metadata": {},
   "outputs": [
    {
     "name": "stdout",
     "output_type": "stream",
     "text": [
      "This function is in need of a Decorator\n",
      "Code would be here, before executing the func\n",
      "This function is in need of a Decorator\n",
      "Code here will execute after the func()\n"
     ]
    }
   ],
   "source": [
    "# Great! Note how we can pass the functions as objects and then use them within\n",
    "# other functions. Now we can get started with writing our first decorator:\n",
    "\n",
    "######################################\n",
    "# Creating a Decorator\n",
    "######################################\n",
    "\n",
    "# In the previous example we actually manually created a Decorator. Here we will\n",
    "# modify it to make its use case clear:\n",
    "\n",
    "def new_decorator(func):\n",
    "\n",
    "    def wrap_func():\n",
    "        print (\"Code would be here, before executing the func\")\n",
    "\n",
    "        func()\n",
    "\n",
    "        print (\"Code here will execute after the func()\")\n",
    "\n",
    "    return wrap_func\n",
    "\n",
    "def func_needs_decorator():\n",
    "    print (\"This function is in need of a Decorator\")\n",
    "\n",
    "func_needs_decorator()\n",
    "\n",
    "# Reassign func_needs_decorator\n",
    "func_needs_decorator = new_decorator(func_needs_decorator)\n",
    "\n",
    "func_needs_decorator()"
   ]
  },
  {
   "cell_type": "code",
   "execution_count": 6,
   "id": "f7c96ab8",
   "metadata": {},
   "outputs": [
    {
     "name": "stdout",
     "output_type": "stream",
     "text": [
      "Code would be here, before executing the func\n",
      "This function is in need of a Decorator\n",
      "Code here will execute after the func()\n"
     ]
    }
   ],
   "source": [
    "# So what just happened here? A decorator simple wrapped the function and\n",
    "# modified its behavior. Now lets understand how we can rewrite this code using\n",
    "# the @ symbol, which is what Python uses for Decorators:\n",
    "# The func below is the same as func_needs_decorator = new_decorator(func_needs_decorator)\n",
    "@new_decorator\n",
    "def func_needs_decorator():\n",
    "    print (\"This function is in need of a Decorator\")\n",
    "\n",
    "func_needs_decorator()\n"
   ]
  },
  {
   "cell_type": "code",
   "execution_count": null,
   "id": "1ff0ef50",
   "metadata": {},
   "outputs": [],
   "source": []
  }
 ],
 "metadata": {
  "kernelspec": {
   "display_name": "Python 3 (ipykernel)",
   "language": "python",
   "name": "python3"
  },
  "language_info": {
   "codemirror_mode": {
    "name": "ipython",
    "version": 3
   },
   "file_extension": ".py",
   "mimetype": "text/x-python",
   "name": "python",
   "nbconvert_exporter": "python",
   "pygments_lexer": "ipython3",
   "version": "3.10.6"
  }
 },
 "nbformat": 4,
 "nbformat_minor": 5
}
