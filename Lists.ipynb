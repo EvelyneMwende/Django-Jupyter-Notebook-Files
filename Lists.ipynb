{
 "cells": [
  {
   "cell_type": "code",
   "execution_count": 1,
   "id": "405a3b01",
   "metadata": {},
   "outputs": [
    {
     "data": {
      "text/plain": [
       "4"
      ]
     },
     "execution_count": 1,
     "metadata": {},
     "output_type": "execute_result"
    }
   ],
   "source": [
    "my_list = ['A string',23,100.232,'o']\n",
    "# Just like strings, the len() function will tell you how\n",
    "# many items are in the sequence of the list.\n",
    "len(my_list)\n"
   ]
  },
  {
   "cell_type": "code",
   "execution_count": 4,
   "id": "d94daf5d",
   "metadata": {},
   "outputs": [
    {
     "data": {
      "text/plain": [
       "'one'"
      ]
     },
     "execution_count": 4,
     "metadata": {},
     "output_type": "execute_result"
    }
   ],
   "source": [
    "# Indexing and slicing works just like in strings. Let's make a new list to\n",
    "# remind ourselves of how this works:\n",
    "my_list = ['one','two','three',4,5]\n",
    "\n",
    "# Grab element at index 0\n",
    "my_list[0]"
   ]
  },
  {
   "cell_type": "code",
   "execution_count": 5,
   "id": "cc92e1d3",
   "metadata": {},
   "outputs": [
    {
     "data": {
      "text/plain": [
       "['two', 'three', 4, 5]"
      ]
     },
     "execution_count": 5,
     "metadata": {},
     "output_type": "execute_result"
    }
   ],
   "source": [
    "# Grab index 1 and everything past it\n",
    "my_list[1:]\n"
   ]
  },
  {
   "cell_type": "code",
   "execution_count": 6,
   "id": "6db9b4ea",
   "metadata": {},
   "outputs": [
    {
     "data": {
      "text/plain": [
       "['one', 'two', 'three']"
      ]
     },
     "execution_count": 6,
     "metadata": {},
     "output_type": "execute_result"
    }
   ],
   "source": [
    "# Grab everything UP TO index 3\n",
    "my_list[:3]"
   ]
  },
  {
   "cell_type": "code",
   "execution_count": 7,
   "id": "bef5c6a9",
   "metadata": {},
   "outputs": [
    {
     "data": {
      "text/plain": [
       "['one', 'two', 'three', 4, 5, 'add new item permanently']"
      ]
     },
     "execution_count": 7,
     "metadata": {},
     "output_type": "execute_result"
    }
   ],
   "source": [
    "# Reassign\n",
    "my_list = my_list + ['add new item permanently']\n",
    "\n",
    "my_list"
   ]
  },
  {
   "cell_type": "code",
   "execution_count": 8,
   "id": "90f9553b",
   "metadata": {},
   "outputs": [
    {
     "data": {
      "text/plain": [
       "['one', 'two', 'three', 4, 5, 'add new item permanently']"
      ]
     },
     "execution_count": 8,
     "metadata": {},
     "output_type": "execute_result"
    }
   ],
   "source": [
    "# Make the list double\n",
    "my_list * 2\n",
    "\n",
    "# Again doubling not permanent\n",
    "my_list"
   ]
  },
  {
   "cell_type": "code",
   "execution_count": 9,
   "id": "8428f740",
   "metadata": {},
   "outputs": [
    {
     "data": {
      "text/plain": [
       "[1, 2, 3, 'append me!']"
      ]
     },
     "execution_count": 9,
     "metadata": {},
     "output_type": "execute_result"
    }
   ],
   "source": [
    "#############################\n",
    "#### Basic List Methods #####\n",
    "#############################\n",
    "#\n",
    "# If you are familiar with another programming language, you might start to draw\n",
    "# parallels between arrays in another language and lists in Python. Lists in\n",
    "# Python however, tend to be more flexible than arrays in other languages for a\n",
    "# two good reasons: they have no fixed size (meaning we don't have to specify\n",
    "# how big a list will be), and they have no fixed type constraint (like we've seen above).\n",
    "#\n",
    "# Let's go ahead and explore some more special methods for lists:\n",
    "\n",
    "# Create a new list\n",
    "l = [1,2,3]\n",
    "\n",
    "\n",
    "# Use the .append() method to permanently add an item to the end of a list:\n",
    "\n",
    "# Append\n",
    "l.append('append me!')\n",
    "\n",
    "# Show\n",
    "l"
   ]
  },
  {
   "cell_type": "code",
   "execution_count": 10,
   "id": "d37adaec",
   "metadata": {},
   "outputs": [
    {
     "data": {
      "text/plain": [
       "[2, 3, 'append me!']"
      ]
     },
     "execution_count": 10,
     "metadata": {},
     "output_type": "execute_result"
    }
   ],
   "source": [
    "# Use \"pop\" to \"pop off\" an item from the list. By default pop takes off the last\n",
    "# index, but you can also specify which index to pop off. Let's see an example:\n",
    "\n",
    "# Pop off the 0 indexed item\n",
    "l.pop(0)\n",
    "\n",
    "# Show\n",
    "l"
   ]
  },
  {
   "cell_type": "code",
   "execution_count": 11,
   "id": "cb35add3",
   "metadata": {},
   "outputs": [
    {
     "data": {
      "text/plain": [
       "[2, 3]"
      ]
     },
     "execution_count": 11,
     "metadata": {},
     "output_type": "execute_result"
    }
   ],
   "source": [
    "# Assign the popped element, remember default popped index is -1\n",
    "popped_item = l.pop()\n",
    "\n",
    "popped_item\n",
    "\n",
    "# Show remaining list\n",
    "l"
   ]
  },
  {
   "cell_type": "code",
   "execution_count": 12,
   "id": "00cffca6",
   "metadata": {},
   "outputs": [
    {
     "data": {
      "text/plain": [
       "['c', 'b', 'x', 'e', 'a']"
      ]
     },
     "execution_count": 12,
     "metadata": {},
     "output_type": "execute_result"
    }
   ],
   "source": [
    "# We can use the **sort** method and the **reverse** methods\n",
    "# to also effect your lists:\n",
    "\n",
    "new_list = ['a','e','x','b','c']\n",
    "\n",
    "#Show\n",
    "new_list\n",
    "\n",
    "# Use reverse to reverse order (this is permanent!)\n",
    "new_list.reverse()\n",
    "\n",
    "new_list"
   ]
  },
  {
   "cell_type": "code",
   "execution_count": 13,
   "id": "ae95173d",
   "metadata": {},
   "outputs": [
    {
     "data": {
      "text/plain": [
       "['a', 'b', 'c', 'e', 'x']"
      ]
     },
     "execution_count": 13,
     "metadata": {},
     "output_type": "execute_result"
    }
   ],
   "source": [
    "# Use sort to sort the list (in this case alphabetical order,\n",
    "# but for numbers it will go ascending)\n",
    "new_list.sort()\n",
    "\n",
    "new_list"
   ]
  },
  {
   "cell_type": "code",
   "execution_count": 18,
   "id": "2a8992f2",
   "metadata": {},
   "outputs": [
    {
     "data": {
      "text/plain": [
       "['x', 'e', 'c', 'b', 'a']"
      ]
     },
     "execution_count": 18,
     "metadata": {},
     "output_type": "execute_result"
    }
   ],
   "source": [
    "#another way to reverse a list\n",
    "rev = new_list[::-1]\n",
    "\n",
    "rev"
   ]
  },
  {
   "cell_type": "code",
   "execution_count": 14,
   "id": "71aa1b2a",
   "metadata": {},
   "outputs": [
    {
     "data": {
      "text/plain": [
       "[[1, 2, 3], [4, 5, 6], [7, 8, 9]]"
      ]
     },
     "execution_count": 14,
     "metadata": {},
     "output_type": "execute_result"
    }
   ],
   "source": [
    "#######################\n",
    "#### Nesting Lists ####\n",
    "#######################\n",
    "# A great feature of of Python data structures is that they support nesting.\n",
    "# This means we can have data structures within data structures.\n",
    "# For example: A list inside a list.\n",
    "#\n",
    "# Let's see how this works!\n",
    "\n",
    "# Let's make three lists\n",
    "lst_1=[1,2,3]\n",
    "lst_2=[4,5,6]\n",
    "lst_3=[7,8,9]\n",
    "\n",
    "# Make a list of lists to form a matrix\n",
    "matrix = [lst_1,lst_2,lst_3]\n",
    "\n",
    "# Show\n",
    "matrix"
   ]
  },
  {
   "cell_type": "code",
   "execution_count": 15,
   "id": "ae717b0e",
   "metadata": {},
   "outputs": [
    {
     "data": {
      "text/plain": [
       "1"
      ]
     },
     "execution_count": 15,
     "metadata": {},
     "output_type": "execute_result"
    }
   ],
   "source": [
    "# Now we can again use indexing to grab elements, but now there are two levels\n",
    "# for the index. The items in the matrix object, and then the items inside that list!\n",
    "\n",
    "# Grab first item in matrix object\n",
    "matrix[0]\n",
    "\n",
    "# Grab first item of the first item in the matrix object\n",
    "matrix[0][0]"
   ]
  },
  {
   "cell_type": "code",
   "execution_count": 20,
   "id": "902aec56",
   "metadata": {},
   "outputs": [
    {
     "data": {
      "text/plain": [
       "[1, 4, 7]"
      ]
     },
     "execution_count": 20,
     "metadata": {},
     "output_type": "execute_result"
    }
   ],
   "source": [
    "\n",
    "###########################\n",
    "### List Comprehensions ###\n",
    "###########################\n",
    "\n",
    "# Python has an advanced feature called list comprehensions. They allow for\n",
    "# quick construction of lists. To fully understand list comprehensions we need\n",
    "# to understand for loops. So don't worry if you don't completely understand\n",
    "# this section, and feel free to just skip it since we will return to this topic later.\n",
    "#\n",
    "# But in case you want to know now, here are a few examples!\n",
    "\n",
    "# Build a list comprehension by deconstructing a for loop within a []\n",
    "first_col = [row[0] for row in matrix]\n",
    "\n",
    "first_col\n",
    "\n",
    "\n",
    "# We used list comprehension here to grab the first element of every row in the\n",
    "# matrix object. We will cover this in much more detail later on!"
   ]
  },
  {
   "cell_type": "code",
   "execution_count": null,
   "id": "b270bb23",
   "metadata": {},
   "outputs": [],
   "source": []
  }
 ],
 "metadata": {
  "kernelspec": {
   "display_name": "Python 3 (ipykernel)",
   "language": "python",
   "name": "python3"
  },
  "language_info": {
   "codemirror_mode": {
    "name": "ipython",
    "version": 3
   },
   "file_extension": ".py",
   "mimetype": "text/x-python",
   "name": "python",
   "nbconvert_exporter": "python",
   "pygments_lexer": "ipython3",
   "version": "3.10.6"
  }
 },
 "nbformat": 4,
 "nbformat_minor": 5
}
