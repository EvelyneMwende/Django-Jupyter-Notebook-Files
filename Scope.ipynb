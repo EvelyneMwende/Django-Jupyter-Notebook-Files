{
 "cells": [
  {
   "cell_type": "code",
   "execution_count": 1,
   "id": "58dd3f8d",
   "metadata": {},
   "outputs": [
    {
     "name": "stdout",
     "output_type": "stream",
     "text": [
      "25\n",
      "50\n",
      "25\n"
     ]
    }
   ],
   "source": [
    "x = 25\n",
    "\n",
    "def printer():\n",
    "    x = 50\n",
    "    return x\n",
    "\n",
    "print(x)\n",
    "print(printer())\n",
    "print(x)"
   ]
  },
  {
   "cell_type": "code",
   "execution_count": 2,
   "id": "dd077d8f",
   "metadata": {},
   "outputs": [],
   "source": [
    "# Interesting! But how does Python know which \"x\" you're referring to in your\n",
    "# code? This is where the idea of scope comes in. Python has a set of rules it\n",
    "# follows to decide what variables (such as x in this case) you are referencing\n",
    "# in your code. Lets break down the rules:\n",
    "\n",
    "# This idea of scope in your code is very important to understand in order to\n",
    "# properly assign and call variable names.\n",
    "#\n",
    "# In simple terms, the idea of scope can be described by 3 general rules:\n",
    "#\n",
    "# 1. Name assignments will create or change local names by default.\n",
    "# 2. Name references search (at most) four scopes, these are:\n",
    "#     * local\n",
    "#     * enclosing functions\n",
    "#     * global\n",
    "#     * built-in\n",
    "# 3. Names declared in global and nonlocal statements map assigned names to\n",
    "# enclosing module and function scopes.\n",
    "#\n",
    "#\n",
    "# The statement in #2 above can be defined by the LEGB rule.\n",
    "#\n",
    "# **LEGB Rule.**\n",
    "#\n",
    "# L: Local — Names assigned in any way within a function (def or lambda)),\n",
    "# and not declared global in that function.\n",
    "#\n",
    "# E: Enclosing function locals — Name in the local scope of any and all\n",
    "# enclosing functions (def or lambda), from inner to outer.\n",
    "#\n",
    "# G: Global (module) — Names assigned at the top-level of a module file, or\n",
    "# declared global in a def within the file.\n",
    "#\n",
    "# B: Built-in (Python) — Names preassigned in the built-in names module :\n",
    "# open,range,SyntaxError,...\n"
   ]
  },
  {
   "cell_type": "code",
   "execution_count": 4,
   "id": "7abe5ee5",
   "metadata": {},
   "outputs": [
    {
     "name": "stdout",
     "output_type": "stream",
     "text": [
      "<function <lambda> at 0x7fa9b14f1f30>\n"
     ]
    }
   ],
   "source": [
    "###############################\n",
    "### Quick examples of LEGB ####\n",
    "###############################\n",
    "\n",
    "# Local\n",
    "\n",
    "# x is local here:\n",
    "f = lambda x:x**2"
   ]
  },
  {
   "cell_type": "code",
   "execution_count": 5,
   "id": "c3a449ec",
   "metadata": {},
   "outputs": [
    {
     "name": "stdout",
     "output_type": "stream",
     "text": [
      "Hello Sammy\n"
     ]
    }
   ],
   "source": [
    "# Enclosing function locals\n",
    "#\n",
    "# This occurs when we have a function inside a function (nested functions)\n",
    "#\n",
    "\n",
    "name = 'This is a global name'\n",
    "\n",
    "def greet():\n",
    "    # Enclosing function\n",
    "    name = 'Sammy'\n",
    "\n",
    "    def hello():\n",
    "        print('Hello '+name)\n",
    "\n",
    "    hello()\n",
    "\n",
    "greet()\n"
   ]
  },
  {
   "cell_type": "code",
   "execution_count": 7,
   "id": "70727779",
   "metadata": {},
   "outputs": [
    {
     "name": "stdout",
     "output_type": "stream",
     "text": [
      "This is a global name\n"
     ]
    }
   ],
   "source": [
    "# Note how Sammy was used, because the hello() function was enclosed inside of\n",
    "# the greet function!\n",
    "\n",
    "# Global\n",
    "#\n",
    "print (name)"
   ]
  },
  {
   "cell_type": "code",
   "execution_count": 10,
   "id": "a7bd5fd7",
   "metadata": {},
   "outputs": [
    {
     "data": {
      "text/plain": [
       "<function len(obj, /)>"
      ]
     },
     "execution_count": 10,
     "metadata": {},
     "output_type": "execute_result"
    }
   ],
   "source": [
    "################################\n",
    "# Built-in\n",
    "################################\n",
    "\n",
    "# These are the built-in function names in Python (don't overwrite these!)\n",
    "# You will know if you've typed one based on its color!\n",
    "\n",
    "len"
   ]
  },
  {
   "cell_type": "code",
   "execution_count": 8,
   "id": "1c8afb3c",
   "metadata": {},
   "outputs": [
    {
     "name": "stdout",
     "output_type": "stream",
     "text": [
      "x is 50\n",
      "Changed local x to 2\n",
      "x is still 50\n"
     ]
    }
   ],
   "source": [
    "# Local Variables\n",
    "\n",
    "# When you declare variables inside a function definition, they are not related\n",
    "# in any way to other variables with the same names used outside the function -\n",
    "# i.e. variable names are local to the function. This is called the scope of the\n",
    "# variable. All variables have the scope of the block they are declared in\n",
    "# starting from the point of definition of the name.\n",
    "#\n",
    "# Example:\n",
    "\n",
    "x = 50\n",
    "\n",
    "def func(x):\n",
    "    print('x is', x)\n",
    "    x = 2\n",
    "    print('Changed local x to', x)\n",
    "\n",
    "func(x)\n",
    "print('x is still', x)"
   ]
  },
  {
   "cell_type": "code",
   "execution_count": 9,
   "id": "5f623a4b",
   "metadata": {},
   "outputs": [
    {
     "name": "stdout",
     "output_type": "stream",
     "text": [
      "Before calling func(), x is:  50\n",
      "This function is now using the global x!\n",
      "Because of global x is:  50\n",
      "Ran func(), changed global x to 2\n",
      "Value of x (outside of func()) is:  2\n"
     ]
    }
   ],
   "source": [
    "################################\n",
    "# The Global Statement\n",
    "################################\n",
    "\n",
    "# If you want to assign a value to a name defined at the top level of the program\n",
    "# (i.e. not inside any kind of scope such as functions or classes), then you have\n",
    "# to tell Python that the name is not local, but it is global. We do this using\n",
    "# the global statement. It is impossible to assign a value to a variable defined\n",
    "# outside a function without the global statement.\n",
    "#\n",
    "# You can use the values of such variables defined outside the function\n",
    "# (assuming there is no variable with the same name within the function).\n",
    "# However, this is not encouraged and should be avoided since it becomes unclear\n",
    "# to the reader of the program as to where that variable’s definition is. Using\n",
    "# the global statement makes it amply clear that the variable is defined\n",
    "# in an outermost block.\n",
    "#\n",
    "# Example:\n",
    "\n",
    "x = 50\n",
    "\n",
    "def func():\n",
    "    global x\n",
    "    print('This function is now using the global x!')\n",
    "    print('Because of global x is: ', x)\n",
    "    x = 2\n",
    "    print('Ran func(), changed global x to', x)\n",
    "\n",
    "print('Before calling func(), x is: ', x)\n",
    "func()\n",
    "print('Value of x (outside of func()) is: ', x)"
   ]
  },
  {
   "cell_type": "code",
   "execution_count": null,
   "id": "e4d3a4a2",
   "metadata": {},
   "outputs": [],
   "source": [
    "# The global statement is used to declare that x is a global variable - hence,\n",
    "# when we assign a value to x inside the function, that change is reflected\n",
    "# when we use the value of x in the main block.\n",
    "#\n",
    "# You can specify more than one global variable using the same global statement\n",
    "# e.g. global x, y, z.\n",
    "\n",
    "###############################\n",
    "# Conclusion\n",
    "###############################\n",
    "\n",
    "# You should now have a good understanding of Scope (you may have already\n",
    "# intuitively felt right about Scope which is great!) One last mention is that\n",
    "# you can use the globals() and locals() functions to check what are your current\n",
    "# local and global variables.\n",
    "#\n",
    "# Another thing to keep in mind is that everything in Python is an object! I can\n",
    "# assign variables to functions just like I can with numbers! We will go over\n",
    "# this again in the decorator section of the course!\n"
   ]
  }
 ],
 "metadata": {
  "kernelspec": {
   "display_name": "Python 3 (ipykernel)",
   "language": "python",
   "name": "python3"
  },
  "language_info": {
   "codemirror_mode": {
    "name": "ipython",
    "version": 3
   },
   "file_extension": ".py",
   "mimetype": "text/x-python",
   "name": "python",
   "nbconvert_exporter": "python",
   "pygments_lexer": "ipython3",
   "version": "3.10.6"
  }
 },
 "nbformat": 4,
 "nbformat_minor": 5
}
