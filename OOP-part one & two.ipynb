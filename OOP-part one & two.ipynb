{
 "cells": [
  {
   "cell_type": "code",
   "execution_count": 2,
   "id": "51a4d0b7",
   "metadata": {},
   "outputs": [
    {
     "name": "stdout",
     "output_type": "stream",
     "text": [
      "<class '__main__.Sample'>\n"
     ]
    }
   ],
   "source": [
    "class Sample():\n",
    "    pass\n",
    "\n",
    "x = Sample()\n",
    "print(type(x))"
   ]
  },
  {
   "cell_type": "code",
   "execution_count": 7,
   "id": "211ce560",
   "metadata": {},
   "outputs": [
    {
     "name": "stdout",
     "output_type": "stream",
     "text": [
      "Husky\n",
      "Retriver\n",
      "Brian\n",
      "Bob\n",
      "mammal\n",
      "mammal\n"
     ]
    }
   ],
   "source": [
    "class Dog():\n",
    "#CLASS OBJECT ATTRIBUTE -commom to all dogs/members of the class\n",
    "    species = \"mammal\"\n",
    "    def __init__(self, breed, name):\n",
    "        self.breed = breed\n",
    "        self.name = name\n",
    "        \n",
    "\n",
    "mydog = Dog(breed = \"Retriver\", name = \"Bob\")\n",
    "otherDog = Dog(\"Husky\", \"Brian\")\n",
    "\n",
    "print(otherDog.breed)\n",
    "print(mydog.breed)\n",
    "\n",
    "print(otherDog.name)\n",
    "print(mydog.name)\n",
    "\n",
    "print(mydog.species)\n",
    "print(otherDog.species)"
   ]
  },
  {
   "cell_type": "code",
   "execution_count": 11,
   "id": "3c907cd0",
   "metadata": {},
   "outputs": [
    {
     "name": "stdout",
     "output_type": "stream",
     "text": [
      "5\n",
      "78.5\n",
      "100\n",
      "31400.0\n",
      "200\n",
      "125600.0\n"
     ]
    }
   ],
   "source": [
    "class Circle():\n",
    "#Class Object Attribute - all circles have a pi of 3.14\n",
    "    pi = 3.14\n",
    "    \n",
    "    #provide a default radius of 1\n",
    "    def __init__(self,radius=1):\n",
    "        self.radius = radius\n",
    "        \n",
    "    def area(self):\n",
    "        return self.radius * self.radius * Circle.pi\n",
    "      \n",
    "    #Changing radius/redefining it \n",
    "    def set_radius(self, new_r):\n",
    "        self.radius = new_r\n",
    "    \n",
    "    \n",
    "myc = Circle(5)\n",
    "print(myc.radius)\n",
    "print(myc.area())\n",
    "\n",
    "#Changing radius/redefining it \n",
    "myc.radius = 100\n",
    "print(myc.radius)\n",
    "print(myc.area())\n",
    "\n",
    "\n",
    "myc.set_radius(200)\n",
    "print(myc.radius)\n",
    "print(myc.area())\n"
   ]
  },
  {
   "cell_type": "code",
   "execution_count": 14,
   "id": "2916e6c4",
   "metadata": {},
   "outputs": [
    {
     "name": "stdout",
     "output_type": "stream",
     "text": [
      "ANIMAL CREATED\n",
      "ANIMAL\n",
      "EATING\n",
      "\n",
      "\n",
      "\n",
      "ANIMAL CREATED\n",
      "DOG CREATED\n",
      "ANIMAL\n",
      "EATING\n",
      "WOOF\n"
     ]
    }
   ],
   "source": [
    "#Inheritance\n",
    "class Animal():\n",
    "    def __init__(self):\n",
    "        print(\"ANIMAL CREATED\")\n",
    "        \n",
    "    def whoAmI(self):\n",
    "        print(\"ANIMAL\")\n",
    "        \n",
    "    def eat(self):\n",
    "        print(\"EATING\")\n",
    "        \n",
    "\n",
    "class Dog(Animal):\n",
    "    def __init__(self):\n",
    "        #pass self to the super class\n",
    "        Animal.__init__(self)\n",
    "        print(\"DOG CREATED\")\n",
    "        \n",
    "    #you can create your own class methods\n",
    "    def bark(self):\n",
    "        print(\"WOOF\")\n",
    "        \n",
    "        \n",
    "mya = Animal()\n",
    "mya.whoAmI()\n",
    "mya.eat()\n",
    "\n",
    "print(\"\\n\\n\")\n",
    "myd = Dog()\n",
    "myd.whoAmI()\n",
    "myd.eat()\n",
    "myd.bark()"
   ]
  },
  {
   "cell_type": "code",
   "execution_count": 24,
   "id": "20f470b0",
   "metadata": {},
   "outputs": [
    {
     "name": "stdout",
     "output_type": "stream",
     "text": [
      "Title: Python, Author: Jose, Pages57\n",
      "57\n"
     ]
    }
   ],
   "source": [
    "#SPECIAL METHODS -wrapped in two underscores(__)\n",
    "class Book():\n",
    "    def __init__(self,title, author, pages):\n",
    "        self.title = title\n",
    "        self.author = author\n",
    "        self.pages = pages\n",
    "        \n",
    "    #String representation of an object/Stringify \n",
    "    def __str__(self):\n",
    "        return \"Title: {}, Author: {}, Pages{}\".format(self.title, self.author, self.pages)\n",
    "    \n",
    "    def __len__(self):\n",
    "        return self.pages\n",
    "        \n",
    "b = Book(\"Python\", \"Jose\", 57)\n",
    "print(b)\n",
    "print(len(b))\n"
   ]
  },
  {
   "cell_type": "code",
   "execution_count": null,
   "id": "bf30f40e",
   "metadata": {},
   "outputs": [],
   "source": []
  }
 ],
 "metadata": {
  "kernelspec": {
   "display_name": "Python 3 (ipykernel)",
   "language": "python",
   "name": "python3"
  },
  "language_info": {
   "codemirror_mode": {
    "name": "ipython",
    "version": 3
   },
   "file_extension": ".py",
   "mimetype": "text/x-python",
   "name": "python",
   "nbconvert_exporter": "python",
   "pygments_lexer": "ipython3",
   "version": "3.10.6"
  }
 },
 "nbformat": 4,
 "nbformat_minor": 5
}
