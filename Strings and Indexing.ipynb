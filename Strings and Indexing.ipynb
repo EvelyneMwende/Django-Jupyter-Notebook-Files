{
 "cells": [
  {
   "cell_type": "code",
   "execution_count": 9,
   "metadata": {},
   "outputs": [
    {
     "name": "stdout",
     "output_type": "stream",
     "text": [
      "Hello World\n",
      "H\n",
      "e\n",
      "l\n",
      "ello World\n",
      "Hel\n",
      "Hello World\n",
      "d\n",
      "Hello Worl\n"
     ]
    }
   ],
   "source": [
    "# Assign s as a string\n",
    "s = 'Hello World'\n",
    "\n",
    "#Check\n",
    "s\n",
    "\n",
    "# Print the object\n",
    "print(s)\n",
    "\n",
    "# Let's start indexing!\n",
    "\n",
    "# Show first element (in this case a letter)\n",
    "\n",
    "print(s[0])\n",
    "\n",
    "# Next element\n",
    "print(s[1])\n",
    "\n",
    "# Next Element\n",
    "print(s[2])\n",
    "\n",
    "\n",
    "# We can use a : to perform *slicing* which grabs everything\n",
    "# up to a designated point. For example:\n",
    "\n",
    "# Grab everything past the first term all the way to the length of s which is len(s)\n",
    "print(s[1:])\n",
    "\n",
    "\n",
    "# Note that there is no change to the original s\n",
    "s\n",
    "\n",
    "# Grab everything UP TO the 3rd index\n",
    "print(s[:3])\n",
    "\n",
    "\n",
    "# Note the above slicing. Here we're telling Python to grab everything from\n",
    "# 0 up to 3. It doesn't include the 3rd index. You'll notice this a lot in\n",
    "# Python, where statements and are usually in the context of \"up to, but not including\".\n",
    "\n",
    "#Everything\n",
    "print(s[:])\n",
    "\n",
    "\n",
    "# We can also use negative indexing to go backwards.\n",
    "# Last letter (one index behind 0 so it loops back around)\n",
    "print(s[-1])\n",
    "\n",
    "# Grab everything but the last letter\n",
    "print(s[:-1])\n",
    "\n"
   ]
  },
  {
   "cell_type": "code",
   "execution_count": 12,
   "metadata": {},
   "outputs": [
    {
     "name": "stdout",
     "output_type": "stream",
     "text": [
      "Hello World\n",
      "HloWrd\n",
      "dlroW olleH\n"
     ]
    }
   ],
   "source": [
    "# We can also use index and slice notation to grab elements of a sequence by a\n",
    "# specified step size (the default is 1). For instance we can use two colons in\n",
    "# a row and then a number specifying the frequency to grab elements. For example:\n",
    "\n",
    "# Grab everything, but go in steps size of 1\n",
    "print(s[::1])\n",
    "\n",
    "# Grab everything, but go in step sizes of 2\n",
    "print(s[::2])\n",
    "\n",
    "# We can use this to print a string backwards\n",
    "print(s[::-1])"
   ]
  },
  {
   "cell_type": "code",
   "execution_count": 14,
   "metadata": {},
   "outputs": [
    {
     "name": "stdout",
     "output_type": "stream",
     "text": [
      "HELLO WORLD\n",
      "hello world\n",
      "['Hello', 'World']\n",
      "['Hello ', 'orld']\n",
      "['Hell', ' W', 'rld']\n"
     ]
    }
   ],
   "source": [
    "# Upper Case a string\n",
    "print(s.upper())\n",
    "\n",
    "# Lower case\n",
    "print(s.lower())\n",
    "\n",
    "# Split a string by blank space (this is the default)\n",
    "print(s.split())\n",
    "\n",
    "# Split by a specific element (doesn't include the element that was split on)\n",
    "print(s.split('W'))\n",
    "\n",
    "print(s.split('o'))"
   ]
  },
  {
   "cell_type": "code",
   "execution_count": 15,
   "metadata": {},
   "outputs": [
    {
     "name": "stdout",
     "output_type": "stream",
     "text": [
      "This is a string with an insert\n",
      "One: Hi!, Two: Hi!, Three: Hi!\n",
      "Object 1: 1, Object 2: two, Object 3: 12.3\n"
     ]
    }
   ],
   "source": [
    "# We can use the .format() method to add formatted objects to printed string statements.\n",
    "#\n",
    "# The easiest way to show this is through an example:\n",
    "\n",
    "'Insert another string with curly brackets: {}'.format('The inserted string')\n",
    "\n",
    "# Using the string .format() method\n",
    "# The best way to format objects into your strings for print statements is using\n",
    "# the format method. The syntax is:\n",
    "#\n",
    "#  'String here {var1} then also {var2}'.format(var1='something1',var2='something2')\n",
    "#\n",
    "# Lets see some examples:\n",
    "\n",
    "\n",
    "print('This is a string with an {p}'.format(p='insert'))\n",
    "\n",
    "# Multiple times:\n",
    "print('One: {p}, Two: {p}, Three: {p}'.format(p='Hi!'))\n",
    "\n",
    "\n",
    "# Several Objects:\n",
    "print('Object 1: {a}, Object 2: {b}, Object 3: {c}'.format(a=1,b='two',c=12.3))"
   ]
  }
 ],
 "metadata": {
  "kernelspec": {
   "display_name": "Python 3",
   "language": "python",
   "name": "python3"
  },
  "language_info": {
   "codemirror_mode": {
    "name": "ipython",
    "version": 3
   },
   "file_extension": ".py",
   "mimetype": "text/x-python",
   "name": "python",
   "nbconvert_exporter": "python",
   "pygments_lexer": "ipython3",
   "version": "3.7.3"
  }
 },
 "nbformat": 4,
 "nbformat_minor": 2
}
