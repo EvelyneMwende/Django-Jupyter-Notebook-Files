{
 "cells": [
  {
   "cell_type": "code",
   "execution_count": 1,
   "id": "3e0b6af5",
   "metadata": {},
   "outputs": [
    {
     "data": {
      "text/plain": [
       "3"
      ]
     },
     "execution_count": 1,
     "metadata": {},
     "output_type": "execute_result"
    }
   ],
   "source": [
    "##################################\n",
    "## Tuples, Sets, and Booleans ####\n",
    "##################################\n",
    "#\n",
    "# In Python tuples are very similar to lists, however, unlike lists they are\n",
    "# immutable meaning they can not be changed. You would use tuples to present\n",
    "# things that shouldn't be changed, such as days of the week, or dates on a calendar.\n",
    "#\n",
    "# In this section, we will get a brief overview of the following:\n",
    "#\n",
    "#     1.) Constructing Tuples\n",
    "#     2.) Basic Tuple Methods\n",
    "#     3.) Immutability\n",
    "#     4.) When to Use Tuples.\n",
    "#\n",
    "# You'll have an intuition of how to use tuples based on what you've learned\n",
    "# about lists. We can treat them very similarly with the major distinction being\n",
    "# that tuples are immutable.\n",
    "#\n",
    "############################\n",
    "#### Constructing Tuples ###\n",
    "############################\n",
    "#\n",
    "# The construction of a tuples use () with elements separated by commas. For example:\n",
    "\n",
    "# Can create a tuple with mixed types\n",
    "t = (1,2,3)\n",
    "\n",
    "# Check len just like a list\n",
    "len(t)\n"
   ]
  },
  {
   "cell_type": "code",
   "execution_count": 2,
   "id": "84f9c33e",
   "metadata": {},
   "outputs": [
    {
     "data": {
      "text/plain": [
       "('one', 2)"
      ]
     },
     "execution_count": 2,
     "metadata": {},
     "output_type": "execute_result"
    }
   ],
   "source": [
    "# Can also mix object types\n",
    "t = ('one',2)\n",
    "\n",
    "# Show\n",
    "t\n"
   ]
  },
  {
   "cell_type": "code",
   "execution_count": 4,
   "id": "96b508c0",
   "metadata": {},
   "outputs": [
    {
     "name": "stdout",
     "output_type": "stream",
     "text": [
      "one\n",
      "2\n"
     ]
    }
   ],
   "source": [
    "# Use indexing just like we did in lists\n",
    "print(t[0])\n",
    "\n",
    "# Slicing just like a list\n",
    "print(t[-1])"
   ]
  },
  {
   "cell_type": "code",
   "execution_count": 5,
   "id": "19aa1b9d",
   "metadata": {},
   "outputs": [
    {
     "data": {
      "text/plain": [
       "0"
      ]
     },
     "execution_count": 5,
     "metadata": {},
     "output_type": "execute_result"
    }
   ],
   "source": [
    "############################\n",
    "### Basic Tuple Methods ####\n",
    "############################\n",
    "\n",
    "# Tuples have built-in methods, but not as many as lists do.\n",
    "# Lets look at two of them:\n",
    "\n",
    "# Use .index to enter a value and return the index\n",
    "t.index('one')"
   ]
  },
  {
   "cell_type": "code",
   "execution_count": 6,
   "id": "fbbf6408",
   "metadata": {},
   "outputs": [
    {
     "data": {
      "text/plain": [
       "1"
      ]
     },
     "execution_count": 6,
     "metadata": {},
     "output_type": "execute_result"
    }
   ],
   "source": [
    "# Use .count to count the number of times a value appears\n",
    "t.count('one')"
   ]
  },
  {
   "cell_type": "code",
   "execution_count": 7,
   "id": "d433dff9",
   "metadata": {},
   "outputs": [
    {
     "ename": "TypeError",
     "evalue": "'tuple' object does not support item assignment",
     "output_type": "error",
     "traceback": [
      "\u001b[0;31m---------------------------------------------------------------------------\u001b[0m",
      "\u001b[0;31mTypeError\u001b[0m                                 Traceback (most recent call last)",
      "Cell \u001b[0;32mIn [7], line 8\u001b[0m\n\u001b[1;32m      1\u001b[0m \u001b[38;5;66;03m####################\u001b[39;00m\n\u001b[1;32m      2\u001b[0m \u001b[38;5;66;03m### Immutability ###\u001b[39;00m\n\u001b[1;32m      3\u001b[0m \u001b[38;5;66;03m####################\u001b[39;00m\n\u001b[1;32m      4\u001b[0m \n\u001b[1;32m      5\u001b[0m \u001b[38;5;66;03m# It can't be stressed enough that tuples are immutable.\u001b[39;00m\n\u001b[1;32m      6\u001b[0m \u001b[38;5;66;03m# To drive that point home:\u001b[39;00m\n\u001b[0;32m----> 8\u001b[0m t[\u001b[38;5;241m0\u001b[39m]\u001b[38;5;241m=\u001b[39m \u001b[38;5;124m'\u001b[39m\u001b[38;5;124mchange\u001b[39m\u001b[38;5;124m'\u001b[39m\n",
      "\u001b[0;31mTypeError\u001b[0m: 'tuple' object does not support item assignment"
     ]
    }
   ],
   "source": [
    "####################\n",
    "### Immutability ###\n",
    "####################\n",
    "\n",
    "# It can't be stressed enough that tuples are immutable.\n",
    "# To drive that point home:\n",
    "\n",
    "t[0]= 'change'"
   ]
  },
  {
   "cell_type": "code",
   "execution_count": 8,
   "id": "2577100a",
   "metadata": {},
   "outputs": [
    {
     "ename": "AttributeError",
     "evalue": "'tuple' object has no attribute 'append'",
     "output_type": "error",
     "traceback": [
      "\u001b[0;31m---------------------------------------------------------------------------\u001b[0m",
      "\u001b[0;31mAttributeError\u001b[0m                            Traceback (most recent call last)",
      "Cell \u001b[0;32mIn [8], line 4\u001b[0m\n\u001b[1;32m      1\u001b[0m \u001b[38;5;66;03m# Because of this immutability, tuples can't grow.\u001b[39;00m\n\u001b[1;32m      2\u001b[0m \u001b[38;5;66;03m# Once a tuple is made we can not add to it.\u001b[39;00m\n\u001b[0;32m----> 4\u001b[0m t\u001b[38;5;241m.\u001b[39mappend(\u001b[38;5;124m'\u001b[39m\u001b[38;5;124mnope\u001b[39m\u001b[38;5;124m'\u001b[39m)\n",
      "\u001b[0;31mAttributeError\u001b[0m: 'tuple' object has no attribute 'append'"
     ]
    }
   ],
   "source": [
    "# Because of this immutability, tuples can't grow.\n",
    "# Once a tuple is made we can not add to it.\n",
    "\n",
    "t.append('nope')\n"
   ]
  },
  {
   "cell_type": "code",
   "execution_count": 9,
   "id": "6d5ea971",
   "metadata": {},
   "outputs": [],
   "source": [
    "############################\n",
    "### When to use Tuples #####\n",
    "############################\n",
    "\n",
    "# You may be wondering, \"Why bother using tuples when they have fewer available\n",
    "# methods?\" To be honest, tuples are not used as often as lists in programming,\n",
    "# but are used when immutability is necessary. If in your program you are passing\n",
    "#  around an object and need to make sure it does not get changed, then tuple\n",
    "# become your solution. It provides a convenient source of data integrity.\n",
    "#\n",
    "# You should now be able to create and use tuples in your programming as well as\n",
    "# have an understanding of their immutability."
   ]
  },
  {
   "cell_type": "code",
   "execution_count": 10,
   "id": "69cdef5f",
   "metadata": {},
   "outputs": [
    {
     "data": {
      "text/plain": [
       "{1}"
      ]
     },
     "execution_count": 10,
     "metadata": {},
     "output_type": "execute_result"
    }
   ],
   "source": [
    "############\n",
    "### Sets ###\n",
    "############\n",
    "\n",
    "# Sets are an unordered collection of *unique* elements. We can construct them\n",
    "# by using the set() function. Let's go ahead and make a set to see how it works\n",
    "\n",
    "x = set()\n",
    "\n",
    "# We add to sets with the add() method\n",
    "x.add(1)\n",
    "\n",
    "#Show\n",
    "x"
   ]
  },
  {
   "cell_type": "code",
   "execution_count": 11,
   "id": "b53982d8",
   "metadata": {},
   "outputs": [
    {
     "data": {
      "text/plain": [
       "{1, 2}"
      ]
     },
     "execution_count": 11,
     "metadata": {},
     "output_type": "execute_result"
    }
   ],
   "source": [
    "# Note the curly brackets. This does not indicate a dictionary! Although you can\n",
    "# draw analogies as a set being a dictionary with only keys.\n",
    "#\n",
    "# We know that a set has only unique entries. So what happens when we try to add\n",
    "# something that is already in a set?\n",
    "\n",
    "# Add a different element\n",
    "x.add(2)\n",
    "\n",
    "#Show\n",
    "x\n"
   ]
  },
  {
   "cell_type": "code",
   "execution_count": 12,
   "id": "6ff3422e",
   "metadata": {},
   "outputs": [
    {
     "data": {
      "text/plain": [
       "{1, 2}"
      ]
     },
     "execution_count": 12,
     "metadata": {},
     "output_type": "execute_result"
    }
   ],
   "source": [
    "# Try to add the same element\n",
    "x.add(1)\n",
    "\n",
    "#Show\n",
    "x\n",
    "\n",
    "\n",
    "# Notice how it won't place another 1 there. That's because a set is only\n",
    "# concerned with unique elements!"
   ]
  },
  {
   "cell_type": "code",
   "execution_count": 14,
   "id": "a63b2f9a",
   "metadata": {},
   "outputs": [
    {
     "data": {
      "text/plain": [
       "{1, 2, 3, 4, 5, 6}"
      ]
     },
     "execution_count": 14,
     "metadata": {},
     "output_type": "execute_result"
    }
   ],
   "source": [
    "#We can cast a list with multiple repeat\n",
    "# elements to a set to get the unique elements. For example:\n",
    "\n",
    "# Create a list with repeats\n",
    "l = [1,1,2,2,3,4,5,6,1,1]\n",
    "\n",
    "# Cast as set to get unique values\n",
    "set(l)"
   ]
  },
  {
   "cell_type": "code",
   "execution_count": 15,
   "id": "61925d4b",
   "metadata": {},
   "outputs": [
    {
     "data": {
      "text/plain": [
       "True"
      ]
     },
     "execution_count": 15,
     "metadata": {},
     "output_type": "execute_result"
    }
   ],
   "source": [
    "##########################\n",
    "######## Booleans ########\n",
    "##########################\n",
    "# Python comes with Booleans (with predefined True and False displays that are\n",
    "# basically just the integers 1 and 0). It also has a placeholder object called\n",
    "# None. Let's walk through a few quick examples of Booleans (we will dive\n",
    "# deeper into them later in this course).\n",
    "\n",
    "# Set object to be a boolean\n",
    "a = True\n",
    "\n",
    "#Show\n",
    "a"
   ]
  },
  {
   "cell_type": "code",
   "execution_count": 16,
   "id": "35de60cf",
   "metadata": {},
   "outputs": [
    {
     "data": {
      "text/plain": [
       "False"
      ]
     },
     "execution_count": 16,
     "metadata": {},
     "output_type": "execute_result"
    }
   ],
   "source": [
    "# We can also use comparison operators to create booleans. We will go over all\n",
    "# the comparison operators later on in the course.\n",
    "\n",
    "# Output is boolean\n",
    "1 > 2"
   ]
  },
  {
   "cell_type": "code",
   "execution_count": 17,
   "id": "d2883bb8",
   "metadata": {},
   "outputs": [],
   "source": [
    "# We can use None as a placeholder for an object that we don't want to reassign yet:\n",
    "\n",
    "# None placeholder\n",
    "b = None"
   ]
  },
  {
   "cell_type": "code",
   "execution_count": null,
   "id": "d2cbf613",
   "metadata": {},
   "outputs": [],
   "source": []
  }
 ],
 "metadata": {
  "kernelspec": {
   "display_name": "Python 3 (ipykernel)",
   "language": "python",
   "name": "python3"
  },
  "language_info": {
   "codemirror_mode": {
    "name": "ipython",
    "version": 3
   },
   "file_extension": ".py",
   "mimetype": "text/x-python",
   "name": "python",
   "nbconvert_exporter": "python",
   "pygments_lexer": "ipython3",
   "version": "3.10.6"
  }
 },
 "nbformat": 4,
 "nbformat_minor": 5
}
