{
 "cells": [
  {
   "cell_type": "code",
   "execution_count": 4,
   "metadata": {},
   "outputs": [
    {
     "name": "stdout",
     "output_type": "stream",
     "text": [
      "default\n",
      "hi\n"
     ]
    }
   ],
   "source": [
    "# Formally, a function is a useful device that groups together a set of statements\n",
    "# so they can be run more than once. They can also let us specify parameters that\n",
    "# can serve as inputs to the functions.\n",
    "#\n",
    "# On a more fundamental level, functions allow us to not have to repeatedly write\n",
    "# the same code again and again. If you remember back to the lessons on strings and\n",
    "# lists, remember that we used a function len() to get the length of a string.\n",
    "# Since checking the length of a sequence is a common task you would want to write\n",
    "# a function that can do this repeatedly at command.\n",
    "#\n",
    "# Functions will be one of most basic levels of reusing code in Python, and it will\n",
    "# also allow us to start thinking of program design (we will dive much deeper\n",
    "# into the ideas of design when we learn about Object Oriented Programming).\n",
    "#\n",
    "\n",
    "######################\n",
    "# def Statements\n",
    "######################\n",
    "\n",
    "# Let's see how to build out a function's syntax in Python.\n",
    "# It has the following form:\n",
    "\n",
    "def my_func(param1='default'):\n",
    "    \"\"\"\n",
    "    Docstring goes here.\n",
    "    \"\"\"\n",
    "    print(param1)\n",
    "    \n",
    "my_func()   \n",
    "my_func(\"hi\")"
   ]
  },
  {
   "cell_type": "code",
   "execution_count": 3,
   "metadata": {},
   "outputs": [
    {
     "data": {
      "text/plain": [
       "'hello'"
      ]
     },
     "execution_count": 3,
     "metadata": {},
     "output_type": "execute_result"
    }
   ],
   "source": [
    "# ######################\n",
    "# Example 2\n",
    "# ######################\n",
    "\n",
    "# We can expand on this by using the return keyword, that way we can actually return\n",
    "# a result and save it for future use, instead of just displaying it. Notice the\n",
    "# lack of parenthesis or brackets, this is the power of whitespace!\n",
    "\n",
    "def giveMeHello():\n",
    "    return \"hello\"\n",
    "\n",
    "giveMeHello()"
   ]
  },
  {
   "cell_type": "code",
   "execution_count": 4,
   "metadata": {},
   "outputs": [
    {
     "name": "stdout",
     "output_type": "stream",
     "text": [
      "hello\n"
     ]
    }
   ],
   "source": [
    "result = giveMeHello()\n",
    "print(result)"
   ]
  },
  {
   "cell_type": "code",
   "execution_count": 7,
   "metadata": {},
   "outputs": [
    {
     "name": "stdout",
     "output_type": "stream",
     "text": [
      "<function giveMeHello at 0x7f6041857640>\n"
     ]
    }
   ],
   "source": [
    "# Common mistake:\n",
    "print(giveMeHello)"
   ]
  },
  {
   "cell_type": "code",
   "execution_count": 8,
   "metadata": {},
   "outputs": [
    {
     "name": "stdout",
     "output_type": "stream",
     "text": [
      "I'm checking to see if 41 is even!\n",
      "False\n"
     ]
    }
   ],
   "source": [
    "# ######################\n",
    "# Example 3\n",
    "# ######################\n",
    "#\n",
    "# Let's write a function that returns tells you whether a number is even or not\n",
    "\n",
    "def evenCheck(num):\n",
    "    print(\"I'm checking to see if {} is even!\".format(num))\n",
    "\n",
    "    # Experienced way: (Don't need an if statement)\n",
    "    print(num%2 == 0)\n",
    "\n",
    "evenCheck(41)"
   ]
  },
  {
   "cell_type": "code",
   "execution_count": 9,
   "metadata": {},
   "outputs": [
    {
     "name": "stdout",
     "output_type": "stream",
     "text": [
      "Hello, Default Name\n"
     ]
    }
   ],
   "source": [
    "\n",
    "# ######################\n",
    "# Example 4\n",
    "# ######################\n",
    "#\n",
    "# Let's write a function that will greet you!\n",
    "#\n",
    "\n",
    "def helloYou(name=\"Default Name\"):\n",
    "    return(\"Hello, \"+name)\n",
    "\n",
    "# Try this with and without a name\n",
    "result = helloYou()\n",
    "print(result)"
   ]
  },
  {
   "cell_type": "code",
   "execution_count": 7,
   "metadata": {},
   "outputs": [
    {
     "name": "stdout",
     "output_type": "stream",
     "text": [
      "apple\n",
      "banana\n",
      "cherry\n"
     ]
    }
   ],
   "source": [
    "#Passing a List as an Argument\n",
    "#You can send any data types of argument to a function (string, number, list, dictionary etc.), and it will be treated as the same data type inside the function.\n",
    "\n",
    "#E.g. if you send a List as an argument, it will still be a List when it reaches the function:\n",
    "\n",
    "def my_function(food):\n",
    "  for x in food:\n",
    "    print(x)\n",
    "\n",
    "fruits = [\"apple\", \"banana\", \"cherry\"]\n",
    "\n",
    "my_function(fruits)"
   ]
  },
  {
   "cell_type": "code",
   "execution_count": 8,
   "metadata": {},
   "outputs": [],
   "source": [
    "#The pass Statement\n",
    "#function definitions cannot be empty, but if you\n",
    "#for some reason have a function definition with no content, put in the pass statement to avoid getting an error.\n",
    "def myfunction():\n",
    "  pass"
   ]
  },
  {
   "cell_type": "code",
   "execution_count": 11,
   "metadata": {},
   "outputs": [
    {
     "name": "stdout",
     "output_type": "stream",
     "text": [
      "\n",
      "\n",
      "Recursion Example Results\n",
      "1\n",
      "3\n",
      "6\n",
      "10\n",
      "15\n",
      "21\n"
     ]
    },
    {
     "data": {
      "text/plain": [
       "21"
      ]
     },
     "execution_count": 11,
     "metadata": {},
     "output_type": "execute_result"
    }
   ],
   "source": [
    "# Recursion\n",
    "# Python also accepts function recursion, which means a defined function can call itself.\n",
    "# Recursion is a common mathematical and programming concept. It means that a function calls itself. This has the benefit of meaning that you can loop through data to reach a result.\n",
    "# The developer should be very careful with recursion as it can be quite easy to slip into writing a function which never terminates, or one that uses excess amounts of memory or processor power. However, when written correctly recursion can be a very efficient and mathematically-elegant approach to programming.\n",
    "# In this example, tri_recursion() is a function that we have defined to call itself (\"recurse\"). We use the k variable as the data, which decrements (-1) every time we recurse. The recursion ends when the condition is not greater than 0 (i.e. when it is 0)\n",
    "\n",
    "\n",
    "def tri_recursion(k):\n",
    "  if(k > 0):\n",
    "    result = k + tri_recursion(k - 1)\n",
    "    print(result)\n",
    "  else:\n",
    "    result = 0\n",
    "  return result\n",
    "\n",
    "print(\"\\n\\nRecursion Example Results\")\n",
    "tri_recursion(6)"
   ]
  },
  {
   "cell_type": "code",
   "execution_count": 10,
   "metadata": {},
   "outputs": [
    {
     "name": "stdout",
     "output_type": "stream",
     "text": [
      "False\n",
      "4\n"
     ]
    }
   ],
   "source": [
    "# ######################\n",
    "# Example 5\n",
    "# ######################\n",
    "#\n",
    "# Let's write a function that will add two numbers together, only if they are even!\n",
    "#\n",
    "\n",
    "def addEvenOnly(num1,num2):\n",
    "    \"\"\"\n",
    "    INPUT: Two numbers\n",
    "    OUTPUT: False if both numbers are not even,\n",
    "    the sum if both numbers ar even\n",
    "    \"\"\"\n",
    "    if (num1 % 2!=0) or (num2 % 2 != 0):\n",
    "        return False\n",
    "    else:\n",
    "        return num1+num2\n",
    "\n",
    "x = addEvenOnly(1,2)\n",
    "y = addEvenOnly(2,2)\n",
    "print(x)\n",
    "print(y)"
   ]
  },
  {
   "cell_type": "code",
   "execution_count": 3,
   "metadata": {},
   "outputs": [
    {
     "name": "stdout",
     "output_type": "stream",
     "text": [
      "The youngest child is Jane\n"
     ]
    }
   ],
   "source": [
    "#Arbitrary Arguments, *args\n",
    "#If you do not know how many arguments that will be passed into your function, add a * before the parameter name in the function definition.\n",
    "\n",
    "#This way the function will receive a tuple of arguments, and can access the items accordingly:\n",
    "\n",
    "def my_function(*kids):\n",
    "  print(\"The youngest child is \" + kids[-1])\n",
    "\n",
    "my_function(\"Emil\", \"Tobias\", \"Linus\", \"Jane\")"
   ]
  },
  {
   "cell_type": "code",
   "execution_count": 4,
   "metadata": {},
   "outputs": [
    {
     "name": "stdout",
     "output_type": "stream",
     "text": [
      "The youngest child is Emil\n"
     ]
    }
   ],
   "source": [
    "#Keyword Arguments\n",
    "#You can also send arguments with the key = value syntax.\n",
    "\n",
    "#This way the order of the arguments does not matter\n",
    "\n",
    "def my_function(child3, child2, child1):\n",
    "  print(\"The youngest child is \" + child3)\n",
    "\n",
    "my_function(child3 = \"Emil\", child2 = \"Tobias\", child1 = \"Linus\")"
   ]
  },
  {
   "cell_type": "code",
   "execution_count": 5,
   "metadata": {},
   "outputs": [
    {
     "name": "stdout",
     "output_type": "stream",
     "text": [
      "His last name is Refsnes\n"
     ]
    }
   ],
   "source": [
    "#Arbitrary Keyword Arguments, **kwargs\n",
    "#If you do not know how many keyword arguments that will be passed into your function, add two asterisk: ** before the parameter name in the function definition.\n",
    "\n",
    "#This way the function will receive a dictionary of arguments, and can access the items accordingly\n",
    "def my_function(**kid):\n",
    "  print(\"His last name is \" + kid[\"lname\"])\n",
    "\n",
    "my_function(fname = \"Tobias\", lname = \"Refsnes\")"
   ]
  },
  {
   "cell_type": "code",
   "execution_count": 6,
   "metadata": {},
   "outputs": [
    {
     "name": "stdout",
     "output_type": "stream",
     "text": [
      "I am from Sweden\n",
      "I am from India\n",
      "I am from Norway\n",
      "I am from Brazil\n"
     ]
    }
   ],
   "source": [
    "#Default Parameter Value\n",
    "#The following example shows how to use a default parameter value.\n",
    "\n",
    "#If we call the function without argument, it uses the default value:\n",
    "\n",
    "def my_function(country = \"Norway\"):\n",
    "  print(\"I am from \" + country)\n",
    "\n",
    "my_function(\"Sweden\")\n",
    "my_function(\"India\")\n",
    "my_function()\n",
    "my_function(\"Brazil\")"
   ]
  },
  {
   "cell_type": "code",
   "execution_count": 11,
   "metadata": {},
   "outputs": [
    {
     "data": {
      "text/plain": [
       "<function __main__.<lambda>(num)>"
      ]
     },
     "execution_count": 11,
     "metadata": {},
     "output_type": "execute_result"
    }
   ],
   "source": [
    "# ######################\n",
    "# Lambda Expressions\n",
    "# ######################\n",
    "\n",
    "#  You won't always need a full blown function, often you will just want to use\n",
    "#  a function only once, in some of these cases, it makes more sense to use a\n",
    "# lambda expression, also known as an anonymous function. Let's see an example:\n",
    "\n",
    "def timesTwo(num):\n",
    "    return num*2\n",
    "\n",
    "# Lambda expression\n",
    "lambda num: num*2"
   ]
  },
  {
   "cell_type": "code",
   "execution_count": 12,
   "metadata": {},
   "outputs": [
    {
     "name": "stdout",
     "output_type": "stream",
     "text": [
      "[2, 4, 6, 8, 10]\n"
     ]
    }
   ],
   "source": [
    "\n",
    "# To really understand the use case for this, we need to introduce a function\n",
    "# that accepts other functions as input parameters, in this case, we will use filter:\n",
    "#\n",
    "my_list = [1,2,3,4,5,6,7,8,9,10]\n",
    "\n",
    "def evenBool(num):\n",
    "    return num%2 == 0\n",
    "\n",
    "evens = filter(evenBool,my_list)\n",
    "print(list(evens))"
   ]
  },
  {
   "cell_type": "code",
   "execution_count": 13,
   "metadata": {},
   "outputs": [
    {
     "name": "stdout",
     "output_type": "stream",
     "text": [
      "[2, 4, 6, 8, 10]\n",
      "15\n",
      "30\n",
      "13\n"
     ]
    }
   ],
   "source": [
    "# Now with Lambda!\n",
    "evens = filter(lambda num: num%2==0,my_list)\n",
    "print(list(evens))\n",
    "\n",
    "#lambda arguments : expression\n",
    "x = lambda a : a + 10\n",
    "print(x(5))\n",
    "\n",
    "\n",
    "#Multiple arguments\n",
    "x = lambda a, b : a * b\n",
    "print(x(5, 6))\n",
    "\n",
    "x = lambda a, b, c : a + b + c\n",
    "print(x(5, 6, 2))"
   ]
  },
  {
   "cell_type": "code",
   "execution_count": 14,
   "metadata": {},
   "outputs": [
    {
     "data": {
      "text/plain": [
       "'hello my name is sam'"
      ]
     },
     "execution_count": 14,
     "metadata": {},
     "output_type": "execute_result"
    }
   ],
   "source": [
    "# Alright, you should now be ready for your exercises! Some exercise questions\n",
    "# may be easier with knowledge of methods, we've seen this a bit before, but here\n",
    "# is an optional review!\n",
    "\n",
    "# ######################\n",
    "# Methods\n",
    "# ######################\n",
    "\n",
    "# Methods are almost like functions that are built into the object. Some Methods\n",
    "# return something, others just affect the object in place. Later on in the OOP\n",
    "# section we will learn how to create our own methods. For now, here are some\n",
    "# useful common ones (this may be review)\n",
    "\n",
    "st = 'hello my name is Sam'\n",
    "st.lower()"
   ]
  },
  {
   "cell_type": "code",
   "execution_count": 15,
   "metadata": {},
   "outputs": [
    {
     "data": {
      "text/plain": [
       "'HELLO MY NAME IS SAM'"
      ]
     },
     "execution_count": 15,
     "metadata": {},
     "output_type": "execute_result"
    }
   ],
   "source": [
    "st.upper()"
   ]
  },
  {
   "cell_type": "code",
   "execution_count": 16,
   "metadata": {},
   "outputs": [
    {
     "data": {
      "text/plain": [
       "['hello', 'my', 'name', 'is', 'Sam']"
      ]
     },
     "execution_count": 16,
     "metadata": {},
     "output_type": "execute_result"
    }
   ],
   "source": [
    "st.split()"
   ]
  },
  {
   "cell_type": "code",
   "execution_count": 17,
   "metadata": {},
   "outputs": [
    {
     "data": {
      "text/plain": [
       "['Go Sports! ', 'Sports']"
      ]
     },
     "execution_count": 17,
     "metadata": {},
     "output_type": "execute_result"
    }
   ],
   "source": [
    "tweet = 'Go Sports! #Sports'\n",
    "tweet.split('#')"
   ]
  },
  {
   "cell_type": "code",
   "execution_count": 18,
   "metadata": {},
   "outputs": [
    {
     "data": {
      "text/plain": [
       "'Sports'"
      ]
     },
     "execution_count": 18,
     "metadata": {},
     "output_type": "execute_result"
    }
   ],
   "source": [
    "tweet.split('#')[1]"
   ]
  },
  {
   "cell_type": "code",
   "execution_count": 20,
   "metadata": {},
   "outputs": [
    {
     "data": {
      "text/plain": [
       "dict_keys(['k1', 'k2'])"
      ]
     },
     "execution_count": 20,
     "metadata": {},
     "output_type": "execute_result"
    }
   ],
   "source": [
    "d = {'k1':1,'k2':2}\n",
    "d.keys()"
   ]
  },
  {
   "cell_type": "code",
   "execution_count": 21,
   "metadata": {},
   "outputs": [
    {
     "data": {
      "text/plain": [
       "dict_items([('k1', 1), ('k2', 2)])"
      ]
     },
     "execution_count": 21,
     "metadata": {},
     "output_type": "execute_result"
    }
   ],
   "source": [
    "d.items()"
   ]
  },
  {
   "cell_type": "code",
   "execution_count": 23,
   "metadata": {},
   "outputs": [
    {
     "name": "stdout",
     "output_type": "stream",
     "text": [
      "[1, 2]\n"
     ]
    }
   ],
   "source": [
    "lst = [1,2,3]\n",
    "x = lst.pop()\n",
    "print(lst)"
   ]
  },
  {
   "cell_type": "code",
   "execution_count": 24,
   "metadata": {},
   "outputs": [
    {
     "data": {
      "text/plain": [
       "False"
      ]
     },
     "execution_count": 24,
     "metadata": {},
     "output_type": "execute_result"
    }
   ],
   "source": [
    "# in Operator (not a method, just something useful)\n",
    "'x' in [1,2,3]"
   ]
  },
  {
   "cell_type": "code",
   "execution_count": 25,
   "metadata": {},
   "outputs": [
    {
     "data": {
      "text/plain": [
       "True"
      ]
     },
     "execution_count": 25,
     "metadata": {},
     "output_type": "execute_result"
    }
   ],
   "source": [
    "'x' in ['x','y','z']"
   ]
  },
  {
   "cell_type": "code",
   "execution_count": 17,
   "metadata": {},
   "outputs": [
    {
     "name": "stdout",
     "output_type": "stream",
     "text": [
      "<class 'int'>\n"
     ]
    }
   ],
   "source": [
    "Myvar = 1\n",
    "print(type(Myvar))"
   ]
  },
  {
   "cell_type": "code",
   "execution_count": 18,
   "metadata": {},
   "outputs": [
    {
     "name": "stdout",
     "output_type": "stream",
     "text": [
      "H\n"
     ]
    }
   ],
   "source": [
    "x=\"Hello\"[0]\n",
    "print(x)"
   ]
  },
  {
   "cell_type": "code",
   "execution_count": null,
   "metadata": {},
   "outputs": [],
   "source": []
  }
 ],
 "metadata": {
  "kernelspec": {
   "display_name": "Python 3 (ipykernel)",
   "language": "python",
   "name": "python3"
  },
  "language_info": {
   "codemirror_mode": {
    "name": "ipython",
    "version": 3
   },
   "file_extension": ".py",
   "mimetype": "text/x-python",
   "name": "python",
   "nbconvert_exporter": "python",
   "pygments_lexer": "ipython3",
   "version": "3.10.6"
  }
 },
 "nbformat": 4,
 "nbformat_minor": 2
}
