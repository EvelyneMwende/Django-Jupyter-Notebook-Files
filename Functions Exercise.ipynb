{
 "cells": [
  {
   "cell_type": "code",
   "execution_count": 1,
   "id": "a5eaa774",
   "metadata": {},
   "outputs": [
    {
     "data": {
      "text/plain": [
       "True"
      ]
     },
     "execution_count": 1,
     "metadata": {},
     "output_type": "execute_result"
    }
   ],
   "source": [
    "#####################\n",
    "## -- PROBLEM 1 -- ##\n",
    "#####################\n",
    "\n",
    "# Given a list of integers, return True if the sequence of numbers 1, 2, 3\n",
    "# appears in the list somewhere.\n",
    "\n",
    "# For example:\n",
    "\n",
    "# arrayCheck([1, 1, 2, 3, 1]) → True\n",
    "# arrayCheck([1, 1, 2, 4, 1]) → False\n",
    "# arrayCheck([1, 1, 2, 1, 2, 3]) → True\n",
    "\n",
    "def arrayCheck(nums):\n",
    "\n",
    "    # Note: iterate with length-2, so can use i+1 and i+2 in the loop\n",
    "    for i in range(len(nums)-2):\n",
    "        # Check in sets of 3 if we have 1,2,3 in a row\n",
    "        if nums[i]==1 and nums[i+1]==2 and nums[i+2]==3:\n",
    "            return True\n",
    "    return False\n",
    "\n",
    "arrayCheck([1, 1, 2, 3, 1])"
   ]
  },
  {
   "cell_type": "code",
   "execution_count": 6,
   "id": "802f5945",
   "metadata": {},
   "outputs": [
    {
     "name": "stdout",
     "output_type": "stream",
     "text": [
      "[1, 2, 3]\n",
      "True\n",
      "[1, 2, 4]\n",
      "False\n",
      "[1, 2, 3]\n",
      "True\n"
     ]
    }
   ],
   "source": [
    "#Alternative Way\n",
    "def arrayCheck(nums):\n",
    "    nums=list(set(nums))\n",
    "    print(nums) \n",
    "    \n",
    "    x= [1,2,3]\n",
    "    \n",
    "    print(x==nums)\n",
    "    \n",
    "arrayCheck([1, 1, 2, 3, 1])\n",
    "arrayCheck([1, 1, 2, 4, 1])\n",
    "arrayCheck([1, 1, 2, 1, 2, 3])"
   ]
  },
  {
   "cell_type": "code",
   "execution_count": 7,
   "id": "7e200e66",
   "metadata": {},
   "outputs": [
    {
     "data": {
      "text/plain": [
       "'Hello'"
      ]
     },
     "execution_count": 7,
     "metadata": {},
     "output_type": "execute_result"
    }
   ],
   "source": [
    "#####################\n",
    "## -- PROBLEM 2 -- ##\n",
    "#####################\n",
    "\n",
    "# Given a string, return a new string made of every other character starting\n",
    "# with the first, so \"Hello\" yields \"Hlo\".\n",
    "\n",
    "# For example:\n",
    "\n",
    "# stringBits('Hello') → 'Hlo'\n",
    "# stringBits('Hi') → 'H'\n",
    "# stringBits('Heeololeo') → 'Hello'\n",
    "\n",
    "def stringBits(str):\n",
    "  result = \"\"\n",
    "  # Many ways to do this.\n",
    "\n",
    "  # This uses the standard loop of i on every char,\n",
    "  # and inside the loop skips the odd index values.\n",
    "  for i in range(len(str)):\n",
    "    if i % 2 == 0:\n",
    "      result = result + str[i]\n",
    "  return result\n",
    "\n",
    "stringBits('Heeololeo')"
   ]
  },
  {
   "cell_type": "code",
   "execution_count": 8,
   "id": "3e9cfa69",
   "metadata": {},
   "outputs": [
    {
     "data": {
      "text/plain": [
       "True"
      ]
     },
     "execution_count": 8,
     "metadata": {},
     "output_type": "execute_result"
    }
   ],
   "source": [
    "\n",
    "#####################\n",
    "## -- PROBLEM 3 -- ##\n",
    "#####################\n",
    "\n",
    "# Given two strings, return True if either of the strings appears at the very end\n",
    "# of the other string, ignoring upper/lower case differences (in other words, the\n",
    "# computation should not be \"case sensitive\").\n",
    "#\n",
    "# Note: s.lower() returns the lowercase version of a string.\n",
    "#\n",
    "# Examples:\n",
    "#\n",
    "# end_other('Hiabc', 'abc') → True\n",
    "# end_other('AbC', 'HiaBc') → True\n",
    "# end_other('abc', 'abXabc') → True\n",
    "\n",
    "def end_other(a, b):\n",
    "  a = a.lower()\n",
    "  b = b.lower()\n",
    "\n",
    "  # Optional use of endswith() method\n",
    "  #return (b.endswith(a) or a.endswith(b))\n",
    "\n",
    "  return a[-(len(b)):] == b or a == b[-(len(a)):]\n",
    "\n",
    "end_other('Hiabc', 'abc')"
   ]
  },
  {
   "cell_type": "code",
   "execution_count": 9,
   "id": "16b2c76f",
   "metadata": {},
   "outputs": [
    {
     "data": {
      "text/plain": [
       "'TThhee'"
      ]
     },
     "execution_count": 9,
     "metadata": {},
     "output_type": "execute_result"
    }
   ],
   "source": [
    "#####################\n",
    "## -- PROBLEM 4 -- ##\n",
    "#####################\n",
    "\n",
    "# Given a string, return a string where for every char in the original,\n",
    "# there are two chars.\n",
    "\n",
    "# doubleChar('The') → 'TThhee'\n",
    "# doubleChar('AAbb') → 'AAAAbbbb'\n",
    "# doubleChar('Hi-There') → 'HHii--TThheerree'\n",
    "\n",
    "def doubleChar(str):\n",
    "  result = ''\n",
    "  for char in str:\n",
    "    result += char * 2\n",
    "  return result\n",
    "\n",
    "doubleChar('The')"
   ]
  },
  {
   "cell_type": "code",
   "execution_count": 10,
   "id": "83c2e8bc",
   "metadata": {},
   "outputs": [
    {
     "data": {
      "text/plain": [
       "6"
      ]
     },
     "execution_count": 10,
     "metadata": {},
     "output_type": "execute_result"
    }
   ],
   "source": [
    "#####################\n",
    "## -- PROBLEM 5 -- ##\n",
    "#####################\n",
    "\n",
    "# Read this problem statement carefully!\n",
    "\n",
    "# Given 3 int values, a b c, return their sum. However, if any of the values is a\n",
    "# teen -- in the range 13-19 inclusive -- then that value counts as 0, except 15\n",
    "# and 16 do not count as a teens. Write a separate helper \"def fix_teen(n):\"that\n",
    "# takes in an int value and returns that value fixed for the teen rule.\n",
    "#\n",
    "# In this way, you avoid repeating the teen code 3 times (i.e. \"decomposition\").\n",
    "# Define the helper below and at the same indent level as the main no_teen_sum().\n",
    "# Again, you will have two functions for this problem!\n",
    "#\n",
    "# Examples:\n",
    "#\n",
    "# no_teen_sum(1, 2, 3) → 6\n",
    "# no_teen_sum(2, 13, 1) → 3\n",
    "# no_teen_sum(2, 1, 14) → 3\n",
    "\n",
    "def no_teen_sum(a, b, c):\n",
    "  return fix_teen(a) + fix_teen(b) + fix_teen(c)\n",
    "\n",
    "def fix_teen(n):\n",
    "  # another way without the \"in\" operator\n",
    "  #if 13 <= n <= 14 or 17 <= n <= 19:\n",
    "  if n in [13, 14, 17, 18, 19]:\n",
    "    return 0\n",
    "  return n\n",
    "\n",
    "no_teen_sum(1, 2, 3)"
   ]
  },
  {
   "cell_type": "code",
   "execution_count": 12,
   "id": "e0a7360e",
   "metadata": {},
   "outputs": [
    {
     "data": {
      "text/plain": [
       "3"
      ]
     },
     "execution_count": 12,
     "metadata": {},
     "output_type": "execute_result"
    }
   ],
   "source": [
    "no_teen_sum(2, 13, 1)"
   ]
  },
  {
   "cell_type": "code",
   "execution_count": 13,
   "id": "0a70621b",
   "metadata": {},
   "outputs": [
    {
     "data": {
      "text/plain": [
       "3"
      ]
     },
     "execution_count": 13,
     "metadata": {},
     "output_type": "execute_result"
    }
   ],
   "source": [
    "#####################\n",
    "## -- PROBLEM 6 -- ##\n",
    "#####################\n",
    "\n",
    "# Return the number of even integers in the given array.\n",
    "#\n",
    "# Examples:\n",
    "#\n",
    "# count_evens([2, 1, 2, 3, 4]) → 3\n",
    "# count_evens([2, 2, 0]) → 3\n",
    "# count_evens([1, 3, 5]) → 0\n",
    "\n",
    "def count_evens(nums):\n",
    "  count = 0\n",
    "  for element in nums:\n",
    "    if element % 2 == 0:\n",
    "      count += 1\n",
    "  return count\n",
    "\n",
    "count_evens([2, 1, 2, 3, 4])"
   ]
  },
  {
   "cell_type": "code",
   "execution_count": null,
   "id": "a6ed00d9",
   "metadata": {},
   "outputs": [],
   "source": []
  }
 ],
 "metadata": {
  "kernelspec": {
   "display_name": "Python 3 (ipykernel)",
   "language": "python",
   "name": "python3"
  },
  "language_info": {
   "codemirror_mode": {
    "name": "ipython",
    "version": 3
   },
   "file_extension": ".py",
   "mimetype": "text/x-python",
   "name": "python",
   "nbconvert_exporter": "python",
   "pygments_lexer": "ipython3",
   "version": "3.10.6"
  }
 },
 "nbformat": 4,
 "nbformat_minor": 5
}
